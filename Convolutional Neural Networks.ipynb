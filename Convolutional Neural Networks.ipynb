{
 "cells": [
  {
   "cell_type": "markdown",
   "metadata": {},
   "source": [
    "# ConvNets: Intro to Convolutional Neural Networks"
   ]
  },
  {
   "cell_type": "markdown",
   "metadata": {},
   "source": [
    "<hr style=\"border:2px solid black\"> </hr>"
   ]
  },
  {
   "cell_type": "markdown",
   "metadata": {},
   "source": [
    "## Convolutional Neural Network (CNN):\n",
    "    - type of feed-forward Neural network\n",
    "    - efficient recognition algorithm\n",
    "    - used effectively in voice recognition and image recognition\n",
    "    - reduces complexitiy of network models"
   ]
  },
  {
   "cell_type": "markdown",
   "metadata": {},
   "source": [
    "## Structure of CNN\n",
    "    - feature extraction layer\n",
    "    - feature map layer\n",
    "    - computing layer"
   ]
  },
  {
   "cell_type": "markdown",
   "metadata": {},
   "source": [
    "## Use Cases of CNN:\n",
    "- 2D graphics displacement\n",
    "- face recognition\n",
    "- speech recognition \n",
    "    - translation\n",
    "    - talk to text"
   ]
  },
  {
   "cell_type": "markdown",
   "metadata": {},
   "source": [
    "#### Face Recognition\n",
    "Input --> face detection --> facial feature extraction --> face identification\n",
    "\n",
    "- regular connected neural network (RCNN)"
   ]
  },
  {
   "cell_type": "markdown",
   "metadata": {},
   "source": [
    "<hr style=\"border:2px solid black\"> </hr>"
   ]
  },
  {
   "cell_type": "markdown",
   "metadata": {},
   "source": [
    "# CNNs Continued\n",
    "4 Nov 2021"
   ]
  },
  {
   "cell_type": "markdown",
   "metadata": {},
   "source": [
    "- **Popular Uses for CNN**: \n",
    "    - image processing\n",
    "    - character recognition\n",
    "    - image tagging\n",
    "    - game playing (Atari, Go)\n",
    "    - access current state of game and make suggestions\n",
    "\n",
    "\n",
    "<br>\n",
    "\n",
    "- **Pooling layers**:\n",
    "    - processing layers used for down sampling\n",
    "        - down sampling: process of taking an image file and shrinking its size\n",
    "            - requires information pixels be removed from image\n",
    "            \n",
    "- **Max Pooling**:\n",
    "    - takes maximum of sample of fields to create new fields\n",
    "    - reduce number of pixels by 75%"
   ]
  },
  {
   "cell_type": "markdown",
   "metadata": {},
   "source": [
    "---"
   ]
  },
  {
   "cell_type": "markdown",
   "metadata": {},
   "source": [
    "## Architecture of CNNs"
   ]
  },
  {
   "cell_type": "markdown",
   "metadata": {},
   "source": [
    "- **Input Layer**: 4 inputs\n",
    "- **Convolutional layer(s)**: extracts different features from each part of the image\n",
    "- **Rectified Linear Unit Activation Layer** (ReLu)\n",
    "- **Pooling layer(s)**: downsampling layer\n",
    "- **Fully Connected Layer(s)**\n",
    "- **SoftMax Layer**: normalizes the data"
   ]
  },
  {
   "cell_type": "markdown",
   "metadata": {},
   "source": [
    "### Terminology:\n",
    "- **Stride**: moving the filter across the image\n",
    "- **Stride size**: how much to move\n",
    "- **Pooling**: combines variables into one\n",
    "- **Feature Map**:\n",
    "- **Convolution Input**: overlapping functions and input\n",
    "- **Filter**: a set of weights applied to a section of an image"
   ]
  },
  {
   "cell_type": "markdown",
   "metadata": {},
   "source": [
    "---"
   ]
  },
  {
   "cell_type": "markdown",
   "metadata": {},
   "source": [
    "## LetNet-5\n",
    "- one of the first CNNs\n",
    "- recognizes 32x32 images\n",
    "- has 7 layers\n",
    "    - convolutional layer (5x5 filter making 6- 28x28 feature maps)\n",
    "    - pooling layer (downsampling images to a 14x14 featurea map)\n",
    "    - 2 more convolutional layers\n",
    "    - 1 more pooling layer\n",
    "    - 1 fully connected layer\n",
    "    - 1 output layer"
   ]
  },
  {
   "cell_type": "markdown",
   "metadata": {},
   "source": [
    "---"
   ]
  },
  {
   "cell_type": "markdown",
   "metadata": {},
   "source": [
    "## Regularization Methods CNNs\n",
    "\n",
    "- **Regularization**: method used to reduce overfitting\n",
    "    - punishes models with potential of overfitting\n",
    "\n",
    "<br>\n",
    "\n",
    "- **Methods**:\n",
    "    - Modify Datasets\n",
    "        - provide more data\n",
    "    - Dropout Layers\n",
    "        - nodes randomly dropped\n",
    "    - Early Stopping\n",
    "        - tweak the number of hyperparameters\n",
    "    - Weight Penalities\n",
    "        - for L1 and L2\n",
    "        - models with large weight -- not preferred\n",
    "        - models with small weight -- preferred"
   ]
  },
  {
   "cell_type": "markdown",
   "metadata": {},
   "source": [
    "<hr style=\"border:2px solid black\"> </hr>"
   ]
  },
  {
   "cell_type": "markdown",
   "metadata": {},
   "source": [
    "# Reccurent Neural Networks (RNN)"
   ]
  },
  {
   "cell_type": "markdown",
   "metadata": {},
   "source": [
    "## Types of RNNs\n",
    "- 1 input to many outputs\n",
    "- Many inputs to a single outputs\n",
    "    - sentiment analysis\n",
    "- Many input to Many outputs\n",
    "    - synced\n",
    "    - unsynced"
   ]
  },
  {
   "cell_type": "markdown",
   "metadata": {},
   "source": [
    "---"
   ]
  },
  {
   "cell_type": "markdown",
   "metadata": {},
   "source": [
    "# Long Short Term Memory (LSTMs) in TensorFlow"
   ]
  },
  {
   "cell_type": "markdown",
   "metadata": {},
   "source": [
    "### RNN: \n",
    "   - only uses output from previous iterations (no true memory)\n",
    "    \n",
    "<br>\n",
    "    \n",
    "### LSTM: \n",
    "   - RNN that can learn relationships over time\n",
    "        - manage memory cells based on inputs\n",
    "        - weights used to:\n",
    "            - learn what to forget and what to remember\n",
    "            - learn how to use memory\n",
    "  \n",
    "#### LSTM Structure:  \n",
    "   - cell: represents memory\n",
    "   - \"x\": multiple gates\n",
    "   - \"+\": add gates\n",
    "   - Sigmoid: sigmoid or logistic unit (between 0 and 1)\n",
    "   - Tanh: unit\n",
    "   - \"t\": current time or iteration\n",
    "\n",
    "#### LSTM Steps:\n",
    "   - **Step 1**: how much to remember\n",
    "        - sigmoid: returns a number between 0 and 1 (used as a percentage of what to remember)\n",
    "   - **Step 2**: what to add to memory\n",
    "       - tanh: extracts information to add\n",
    "   - **Step 3**: builds the output"
   ]
  },
  {
   "cell_type": "code",
   "execution_count": null,
   "metadata": {},
   "outputs": [],
   "source": []
  }
 ],
 "metadata": {
  "kernelspec": {
   "display_name": "Python 3",
   "language": "python",
   "name": "python3"
  },
  "language_info": {
   "codemirror_mode": {
    "name": "ipython",
    "version": 3
   },
   "file_extension": ".py",
   "mimetype": "text/x-python",
   "name": "python",
   "nbconvert_exporter": "python",
   "pygments_lexer": "ipython3",
   "version": "3.8.5"
  }
 },
 "nbformat": 4,
 "nbformat_minor": 4
}
