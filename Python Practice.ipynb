{
 "cells": [
  {
   "cell_type": "markdown",
   "metadata": {},
   "source": [
    "# Udemy work"
   ]
  },
  {
   "cell_type": "markdown",
   "metadata": {},
   "source": [
    "---"
   ]
  },
  {
   "cell_type": "markdown",
   "metadata": {},
   "source": [
    "## Section 4: Comparision Operators"
   ]
  },
  {
   "cell_type": "markdown",
   "metadata": {},
   "source": [
    "### Equality"
   ]
  },
  {
   "cell_type": "code",
   "execution_count": null,
   "metadata": {},
   "outputs": [],
   "source": [
    "#cannot use ONE = because python will think you're assigning a variable\n",
    "2 == 2"
   ]
  },
  {
   "cell_type": "code",
   "execution_count": null,
   "metadata": {},
   "outputs": [],
   "source": [
    "2 == 1"
   ]
  },
  {
   "cell_type": "code",
   "execution_count": null,
   "metadata": {},
   "outputs": [],
   "source": [
    "'hello' == 'bye'"
   ]
  },
  {
   "cell_type": "code",
   "execution_count": null,
   "metadata": {},
   "outputs": [],
   "source": [
    "#when using strings, upper and lower case matter\n",
    "'Bye' == 'bye'"
   ]
  },
  {
   "cell_type": "code",
   "execution_count": null,
   "metadata": {},
   "outputs": [],
   "source": [
    "#string 2 is not the same as integer 2\n",
    "'2' == 2"
   ]
  },
  {
   "cell_type": "code",
   "execution_count": null,
   "metadata": {},
   "outputs": [],
   "source": [
    "#floats and integers are equal\n",
    "2.0 == 2"
   ]
  },
  {
   "cell_type": "markdown",
   "metadata": {},
   "source": [
    "### Inequality"
   ]
  },
  {
   "cell_type": "code",
   "execution_count": null,
   "metadata": {},
   "outputs": [],
   "source": [
    "2 != 2"
   ]
  },
  {
   "cell_type": "code",
   "execution_count": null,
   "metadata": {},
   "outputs": [],
   "source": [
    "2 != 1"
   ]
  },
  {
   "cell_type": "markdown",
   "metadata": {},
   "source": [
    "### Less than /greater then"
   ]
  },
  {
   "cell_type": "code",
   "execution_count": null,
   "metadata": {},
   "outputs": [],
   "source": [
    "#greater then\n",
    "2 >1"
   ]
  },
  {
   "cell_type": "code",
   "execution_count": null,
   "metadata": {},
   "outputs": [],
   "source": [
    "1>2"
   ]
  },
  {
   "cell_type": "code",
   "execution_count": null,
   "metadata": {},
   "outputs": [],
   "source": [
    "#less then\n",
    "1<2"
   ]
  },
  {
   "cell_type": "code",
   "execution_count": null,
   "metadata": {},
   "outputs": [],
   "source": [
    "#less then or equal to\n",
    "4 <=2"
   ]
  },
  {
   "cell_type": "code",
   "execution_count": null,
   "metadata": {},
   "outputs": [],
   "source": [
    "#greater then or equal to\n",
    "4 >=2"
   ]
  },
  {
   "cell_type": "markdown",
   "metadata": {},
   "source": [
    "## Chaining Comparision Operators\n",
    "- Logical Operator\n",
    "    -  and, or & not"
   ]
  },
  {
   "cell_type": "code",
   "execution_count": null,
   "metadata": {},
   "outputs": [],
   "source": [
    "#can use this basic format or you can use the comparison operators below!\n",
    "1 < 2 < 3"
   ]
  },
  {
   "cell_type": "markdown",
   "metadata": {},
   "source": [
    "### 'and' keyword\n",
    "- requires that **both** items be true"
   ]
  },
  {
   "cell_type": "code",
   "execution_count": null,
   "metadata": {},
   "outputs": [],
   "source": [
    "#and keyword\n",
    "1 < 2 and 2>3"
   ]
  },
  {
   "cell_type": "code",
   "execution_count": null,
   "metadata": {},
   "outputs": [],
   "source": [
    "#can use () or not - preference\n",
    "('h' == 'h') and (2 == 2)"
   ]
  },
  {
   "cell_type": "markdown",
   "metadata": {},
   "source": [
    "### 'or' keyword\n",
    "- requires that only **one** item be true"
   ]
  },
  {
   "cell_type": "code",
   "execution_count": null,
   "metadata": {},
   "outputs": [],
   "source": [
    "1 ==1 or 2==2"
   ]
  },
  {
   "cell_type": "code",
   "execution_count": null,
   "metadata": {},
   "outputs": [],
   "source": [
    "1 == 1 or 2 ==4"
   ]
  },
  {
   "cell_type": "markdown",
   "metadata": {},
   "source": [
    "### 'not' keyword\n",
    "- return opposite boolean "
   ]
  },
  {
   "cell_type": "code",
   "execution_count": null,
   "metadata": {},
   "outputs": [],
   "source": [
    "#this is clearly true\n",
    "1 == 1"
   ]
  },
  {
   "cell_type": "code",
   "execution_count": null,
   "metadata": {},
   "outputs": [],
   "source": [
    "#this will give you the opposite of accurate response\n",
    "not(1 == 1)"
   ]
  },
  {
   "cell_type": "code",
   "execution_count": null,
   "metadata": {},
   "outputs": [],
   "source": [
    "2 <3 >10"
   ]
  },
  {
   "cell_type": "markdown",
   "metadata": {},
   "source": [
    "<hr style=\"border:2px solid black\"> </hr>"
   ]
  },
  {
   "cell_type": "markdown",
   "metadata": {},
   "source": [
    "# Section 5: Python Statements"
   ]
  },
  {
   "cell_type": "markdown",
   "metadata": {},
   "source": [
    "---"
   ]
  },
  {
   "cell_type": "markdown",
   "metadata": {},
   "source": [
    "## if, elif, else Statements\n",
    "    - controls flow of logic\n",
    "    \n",
    "**Control Flow syntax**: \n",
    "    - makes use of white space and indentations \n",
    "\n",
    "**Example:**\n",
    "- if some_condition:\n",
    "   - execute some code\n",
    "- else some_other_condition:\n",
    "   - execute another code"
   ]
  },
  {
   "cell_type": "code",
   "execution_count": null,
   "metadata": {},
   "outputs": [],
   "source": [
    "if True:\n",
    "    print('its true!')"
   ]
  },
  {
   "cell_type": "code",
   "execution_count": null,
   "metadata": {},
   "outputs": [],
   "source": [
    "if 3>2:\n",
    "    print('is true')"
   ]
  },
  {
   "cell_type": "code",
   "execution_count": null,
   "metadata": {},
   "outputs": [],
   "source": [
    "hungry = True\n",
    "if hungry:\n",
    "    print('feed me')"
   ]
  },
  {
   "cell_type": "code",
   "execution_count": null,
   "metadata": {},
   "outputs": [],
   "source": [
    "hungry = True\n",
    "\n",
    "if hungry:\n",
    "    print('feed me')\n",
    "else:\n",
    "    print('Im not hungry')"
   ]
  },
  {
   "cell_type": "markdown",
   "metadata": {},
   "source": [
    "### multiple branches"
   ]
  },
  {
   "cell_type": "code",
   "execution_count": null,
   "metadata": {},
   "outputs": [],
   "source": [
    "loc= 'Bank'\n",
    "if loc == 'Auto Shop':\n",
    "    print('Cars are cool')\n",
    "else:\n",
    "    print('i do not know much')"
   ]
  },
  {
   "cell_type": "code",
   "execution_count": null,
   "metadata": {},
   "outputs": [],
   "source": [
    "loc= 'Bank'\n",
    "if loc == 'Auto Shop':\n",
    "    print('Cars are cool')\n",
    "elif loc ==\"Bank\":\n",
    "    print('Money is cool')\n",
    "elif loc == 'Store':\n",
    "    print('Welcome to the store')\n",
    "else:\n",
    "    print('i do not know much')"
   ]
  },
  {
   "cell_type": "code",
   "execution_count": null,
   "metadata": {},
   "outputs": [],
   "source": [
    "loc= 'Game'\n",
    "\n",
    "if loc == 'Auto Shop':\n",
    "    print('Cars are cool')\n",
    "elif loc ==\"Bank\":\n",
    "    print('Money is cool')\n",
    "elif loc == 'Store':\n",
    "    print('Welcome to the store')\n",
    "else:\n",
    "    print('i do not know much')"
   ]
  },
  {
   "cell_type": "code",
   "execution_count": null,
   "metadata": {},
   "outputs": [],
   "source": [
    "name = 'Sammy'\n",
    "\n",
    "if name == 'Frankie':\n",
    "    print('Hello Frankie')\n",
    "elif name == 'Sammy':\n",
    "    print('Hello Sammy')\n",
    "else:\n",
    "    print('What is your name?')"
   ]
  },
  {
   "cell_type": "markdown",
   "metadata": {},
   "source": [
    "---"
   ]
  },
  {
   "cell_type": "markdown",
   "metadata": {},
   "source": [
    "## For Loops\n",
    "- can use **for loops** to execute a block of code for every iteration\n",
    "- **iterable**: perform an action for everything in an object\n",
    "    - ex: can iterate over every key in a dictionary"
   ]
  },
  {
   "cell_type": "code",
   "execution_count": null,
   "metadata": {},
   "outputs": [],
   "source": [
    "#variable\n",
    "my_iterable = [1,2,3] #this is a list\n",
    "#item_name: place holder , my_iterable: variable name\n",
    "for item_name in my_iterable: #place holder variable\n",
    "    print(item_name)"
   ]
  },
  {
   "cell_type": "code",
   "execution_count": null,
   "metadata": {},
   "outputs": [],
   "source": [
    "#do not use 'list' as variable name, it is a keyword\n",
    "mylist= [1,2,3,4,5,6,7,8,9,10]"
   ]
  },
  {
   "cell_type": "code",
   "execution_count": null,
   "metadata": {},
   "outputs": [],
   "source": [
    "#for loop to iterate through every item in this list\n",
    "for num in mylist: #'num' can be any variable name\n",
    "    print(num)"
   ]
  },
  {
   "cell_type": "code",
   "execution_count": null,
   "metadata": {},
   "outputs": [],
   "source": [
    "#print out only even numbers\n",
    "for num in mylist:\n",
    "    #check for even numbers\n",
    "    if num % 2 == 0:\n",
    "        print(num)"
   ]
  },
  {
   "cell_type": "code",
   "execution_count": null,
   "metadata": {},
   "outputs": [],
   "source": [
    "#print out only odd numbers\n",
    "for num in mylist:\n",
    "    #check for even numbers\n",
    "    if num % 2 != 0:\n",
    "        print(num)"
   ]
  },
  {
   "cell_type": "code",
   "execution_count": null,
   "metadata": {},
   "outputs": [],
   "source": [
    "#combine for loops with control flow\n",
    "for num in mylist:\n",
    "    #check for even numbers\n",
    "    if num % 2 != 0:\n",
    "        print(num)\n",
    "    else:\n",
    "        #f string literal\n",
    "        print(f'Odd number: {num}')"
   ]
  },
  {
   "cell_type": "code",
   "execution_count": null,
   "metadata": {},
   "outputs": [],
   "source": [
    "#identify variable called list_sum\n",
    "list_sum = 0\n",
    "\n",
    "#add 0 to every number in my_list\n",
    "for num in mylist:\n",
    "    list_sum = list_sum + num\n",
    "    \n",
    "#outside of for loop, print the total    \n",
    "print(list_sum)"
   ]
  },
  {
   "cell_type": "code",
   "execution_count": null,
   "metadata": {},
   "outputs": [],
   "source": [
    "#identify variable called list_sum\n",
    "list_sum = 0\n",
    "\n",
    "#add 0 to every number in my_list\n",
    "for num in mylist:\n",
    "    list_sum = list_sum + num\n",
    "    \n",
    "    #inside for loop, you'll get running tally  \n",
    "    print(list_sum)"
   ]
  },
  {
   "cell_type": "code",
   "execution_count": null,
   "metadata": {},
   "outputs": [],
   "source": [
    "mystring= 'Hello World'\n",
    "for letter in mystring:\n",
    "    print(letter)"
   ]
  },
  {
   "cell_type": "code",
   "execution_count": null,
   "metadata": {},
   "outputs": [],
   "source": [
    "#if not identifying variable\n",
    "for letter in 'Hello World':\n",
    "    print(letter)"
   ]
  },
  {
   "cell_type": "code",
   "execution_count": null,
   "metadata": {},
   "outputs": [],
   "source": [
    "#for loop for tuple\n",
    "tup = (1,2,3)\n",
    "\n",
    "for item in tup:\n",
    "    print(item)"
   ]
  },
  {
   "cell_type": "code",
   "execution_count": null,
   "metadata": {},
   "outputs": [],
   "source": [
    "#list with tuple pairs as items in that list\n",
    "mylist = [(1,2),(3,4),(5,6),(7,8)]"
   ]
  },
  {
   "cell_type": "code",
   "execution_count": null,
   "metadata": {},
   "outputs": [],
   "source": [
    "#get length of the mylist\n",
    "len(mylist)"
   ]
  },
  {
   "cell_type": "code",
   "execution_count": null,
   "metadata": {},
   "outputs": [],
   "source": [
    "for item in mylist:\n",
    "    print(item)"
   ]
  },
  {
   "cell_type": "markdown",
   "metadata": {},
   "source": [
    "### tuple unpacking\n",
    "- duplicate the structure of the items (tuples) then unpack them to access individual items\n"
   ]
  },
  {
   "cell_type": "code",
   "execution_count": null,
   "metadata": {},
   "outputs": [],
   "source": [
    "#tuple unpacking\n",
    "for (a,b) in mylist:\n",
    "    print(b)"
   ]
  },
  {
   "cell_type": "code",
   "execution_count": null,
   "metadata": {},
   "outputs": [],
   "source": [
    "mylist = [(1,2,3),(5,6,7),(8,9,10)]\n",
    "for item in mylist:\n",
    "    print(item)"
   ]
  },
  {
   "cell_type": "code",
   "execution_count": null,
   "metadata": {},
   "outputs": [],
   "source": [
    "for a,b,c in mylist:\n",
    "    print(b)"
   ]
  },
  {
   "cell_type": "markdown",
   "metadata": {},
   "source": [
    "### iterate through a dictionary\n",
    "- by default when working through a dictionary, you only iterate through the 'keys'\n",
    "- use tuple unpacking to print items and not just keys\n",
    "- dictionaries are not actually ordered"
   ]
  },
  {
   "cell_type": "code",
   "execution_count": null,
   "metadata": {},
   "outputs": [],
   "source": [
    "d = {'k1': 1, 'k2': 2, 'k3': 3,}\n",
    "\n",
    "for item in d:\n",
    "    #this will only print the keys\n",
    "    print(item)"
   ]
  },
  {
   "cell_type": "code",
   "execution_count": null,
   "metadata": {},
   "outputs": [],
   "source": [
    "#call the actual dictionary to print item itself\n",
    "for item in d.items():\n",
    "    #this will print the actual item, not just keys\n",
    "    print(item)"
   ]
  },
  {
   "cell_type": "code",
   "execution_count": null,
   "metadata": {},
   "outputs": [],
   "source": [
    "#call the actual dictionary to print item itself\n",
    "for key,value in d.items():\n",
    "    #use tuple unpacking to print only value\n",
    "    print(value)"
   ]
  },
  {
   "cell_type": "markdown",
   "metadata": {},
   "source": [
    "---"
   ]
  },
  {
   "cell_type": "markdown",
   "metadata": {},
   "source": [
    "## While Loops\n",
    "- continue to execute a block of code **while** a condition is true\n",
    "    - ex: while my dog is still hungry,\n",
    "        - keep feeding my dog"
   ]
  },
  {
   "cell_type": "raw",
   "metadata": {},
   "source": [
    "#syntax\n",
    "while some_boolean_condition:\n",
    "    do something"
   ]
  },
  {
   "cell_type": "code",
   "execution_count": null,
   "metadata": {},
   "outputs": [],
   "source": [
    "x = 0\n",
    "\n",
    "while x < 5:\n",
    "    print(f'The current value of x is {x}')\n",
    "    x = x + 1"
   ]
  },
  {
   "cell_type": "code",
   "execution_count": null,
   "metadata": {},
   "outputs": [],
   "source": [
    "#add else statement to while loop\n",
    "x = 0\n",
    "\n",
    "while x < 5:\n",
    "    print(f'The current value of x is {x}')\n",
    "    x = x + 1\n",
    "else:\n",
    "    print('X is not less than 5')"
   ]
  },
  {
   "cell_type": "code",
   "execution_count": null,
   "metadata": {},
   "outputs": [],
   "source": [
    "#if x is greater then the condition (x <5) then the while loop will never run \n",
    "x = 50\n",
    "\n",
    "while x < 5:\n",
    "    print(f'The current value of x is {x}')\n",
    "    x = x + 1\n",
    "else:\n",
    "    print('X is not less than 5')"
   ]
  },
  {
   "cell_type": "markdown",
   "metadata": {},
   "source": [
    "### Key words:\n",
    "- **break**: breaks to of the current closest enclosing loop\n",
    "- **continue**: goes to the top of the current closest enclosing loop\n",
    "- **pass**: does nothing at all"
   ]
  },
  {
   "cell_type": "code",
   "execution_count": null,
   "metadata": {},
   "outputs": [],
   "source": [
    "#pass keyword\n",
    "x = [1,2,3]\n",
    "\n",
    "for item in x:\n",
    "    # comment\n",
    "    pass #this is placeholder to avoid syntax error\n",
    "\n",
    "print('end of my script')"
   ]
  },
  {
   "cell_type": "code",
   "execution_count": null,
   "metadata": {},
   "outputs": [],
   "source": [
    "#continue keyword\n",
    "mystring = 'Sammy'\n",
    "\n",
    "for letter in mystring:\n",
    "    print(letter)"
   ]
  },
  {
   "cell_type": "code",
   "execution_count": null,
   "metadata": {},
   "outputs": [],
   "source": [
    "for letter in mystring:\n",
    "    #if letter is a, continue and go back to the loop\n",
    "    if letter == 'a':\n",
    "        continue\n",
    "    print(letter)"
   ]
  },
  {
   "cell_type": "code",
   "execution_count": null,
   "metadata": {},
   "outputs": [],
   "source": [
    "#break keyword\n",
    "for letter in mystring:\n",
    "    #breaks loop when letter a is found\n",
    "    if letter == 'a':\n",
    "        break\n",
    "    print(letter)"
   ]
  },
  {
   "cell_type": "code",
   "execution_count": null,
   "metadata": {},
   "outputs": [],
   "source": [
    "#break with a while statement\n",
    "x = 0\n",
    "\n",
    "while x <5:\n",
    "    #if x equals 2, break the loop\n",
    "    if x ==2:\n",
    "        break\n",
    "    print(x)\n",
    "    x += 1"
   ]
  },
  {
   "cell_type": "markdown",
   "metadata": {},
   "source": [
    "---"
   ]
  },
  {
   "cell_type": "markdown",
   "metadata": {},
   "source": [
    "## Useful Operators"
   ]
  },
  {
   "cell_type": "markdown",
   "metadata": {},
   "source": [
    "### Range:\n",
    "   - **generator**: a special function that will generate info instead of saving it all to memory"
   ]
  },
  {
   "cell_type": "code",
   "execution_count": null,
   "metadata": {},
   "outputs": [],
   "source": [
    "#range is exclusive- all numbers UP TO the number requested\n",
    "for num in range(10):\n",
    "    print(num)"
   ]
  },
  {
   "cell_type": "code",
   "execution_count": null,
   "metadata": {},
   "outputs": [],
   "source": [
    "for num in range(3,10):\n",
    "    print(num)"
   ]
  },
  {
   "cell_type": "code",
   "execution_count": null,
   "metadata": {},
   "outputs": [],
   "source": [
    "# final number is step (x,x,2) means we count by 2s\n",
    "for num in range(0,10,2):\n",
    "    print(num)"
   ]
  },
  {
   "cell_type": "code",
   "execution_count": null,
   "metadata": {},
   "outputs": [],
   "source": [
    "#another way to accomplish same task\n",
    "##list of range with step of 2\n",
    "list(range(0,10,2))"
   ]
  },
  {
   "cell_type": "markdown",
   "metadata": {},
   "source": [
    "### Enumerate"
   ]
  },
  {
   "cell_type": "code",
   "execution_count": null,
   "metadata": {},
   "outputs": [],
   "source": [
    "index_count = 0\n",
    "\n",
    "for lettter in 'abcde':\n",
    "    print('At index {} the letter is {}'.format(index_count,letter))\n",
    "    index_count += 1"
   ]
  },
  {
   "cell_type": "code",
   "execution_count": null,
   "metadata": {},
   "outputs": [],
   "source": [
    "index_count = 0\n",
    "word = 'abcde'\n",
    "\n",
    "for lettter in word:\n",
    "    \n",
    "    print(word[index_count])\n",
    "    index_count += 1"
   ]
  },
  {
   "cell_type": "code",
   "execution_count": null,
   "metadata": {},
   "outputs": [],
   "source": [
    "word = 'abcde'"
   ]
  },
  {
   "cell_type": "code",
   "execution_count": null,
   "metadata": {},
   "outputs": [],
   "source": [
    "#automatic index count in for of tuples\n",
    "for item in enumerate(word):\n",
    "    print(item)"
   ]
  },
  {
   "cell_type": "code",
   "execution_count": null,
   "metadata": {},
   "outputs": [],
   "source": [
    "#using tuple unpacking\n",
    "for index, letter in enumerate(word):\n",
    "    print(index)\n",
    "    print(letter)\n",
    "    print('\\n') #create a blank line"
   ]
  },
  {
   "cell_type": "markdown",
   "metadata": {},
   "source": [
    "### Zip function\n",
    "- basically joins to lists together\n",
    "- if lists do not have the same number of itmes... it will only use the shortest list and ignore the rest"
   ]
  },
  {
   "cell_type": "code",
   "execution_count": null,
   "metadata": {},
   "outputs": [],
   "source": [
    "mylist1 = [1,2,3]\n",
    "mylist2 = ['a','b','c']\n",
    "mylist3 = [100, 200, 300]"
   ]
  },
  {
   "cell_type": "code",
   "execution_count": null,
   "metadata": {},
   "outputs": [],
   "source": [
    "for item in zip(mylist1, mylist2, mylist3):\n",
    "    print(item)"
   ]
  },
  {
   "cell_type": "code",
   "execution_count": null,
   "metadata": {},
   "outputs": [],
   "source": [
    "#another way to zip\n",
    "list(zip(mylist1,mylist2))"
   ]
  },
  {
   "cell_type": "markdown",
   "metadata": {},
   "source": [
    "### in operator\n",
    "- will return a boolean if request is in a list, dictionary key, or string"
   ]
  },
  {
   "cell_type": "code",
   "execution_count": null,
   "metadata": {},
   "outputs": [],
   "source": [
    "'x' in [1,2,3]"
   ]
  },
  {
   "cell_type": "code",
   "execution_count": null,
   "metadata": {},
   "outputs": [],
   "source": [
    "#in a list\n",
    "2 in [1,2,3]"
   ]
  },
  {
   "cell_type": "code",
   "execution_count": null,
   "metadata": {},
   "outputs": [],
   "source": [
    "#in a string\n",
    "'a' in 'a world'"
   ]
  },
  {
   "cell_type": "code",
   "execution_count": null,
   "metadata": {},
   "outputs": [],
   "source": [
    "#in a dictionary- uses key only\n",
    "'mykey' in {'mykey': 345}"
   ]
  },
  {
   "cell_type": "code",
   "execution_count": null,
   "metadata": {},
   "outputs": [],
   "source": [
    "#to check values in dictionary (not the key) must specify location\n",
    "##mykey = key, 345= value\n",
    "d = {'mykey': 345}\n",
    "\n",
    "345 in d.values()"
   ]
  },
  {
   "cell_type": "markdown",
   "metadata": {},
   "source": [
    "### Min, Max and Random Libraries"
   ]
  },
  {
   "cell_type": "code",
   "execution_count": null,
   "metadata": {},
   "outputs": [],
   "source": [
    "mylist = [10,20,30,40,100]"
   ]
  },
  {
   "cell_type": "code",
   "execution_count": null,
   "metadata": {},
   "outputs": [],
   "source": [
    "min(mylist)"
   ]
  },
  {
   "cell_type": "code",
   "execution_count": null,
   "metadata": {},
   "outputs": [],
   "source": [
    "max(mylist)"
   ]
  },
  {
   "cell_type": "code",
   "execution_count": null,
   "metadata": {},
   "outputs": [],
   "source": [
    "#import library- shuffle function\n",
    "##shuffles a list\n",
    "from random import shuffle"
   ]
  },
  {
   "cell_type": "code",
   "execution_count": null,
   "metadata": {},
   "outputs": [],
   "source": [
    "mylist = [1,2,3,4,5,6,7,8,9,10]"
   ]
  },
  {
   "cell_type": "code",
   "execution_count": null,
   "metadata": {},
   "outputs": [],
   "source": [
    "#use shuffle function\n",
    "shuffle(mylist)"
   ]
  },
  {
   "cell_type": "code",
   "execution_count": null,
   "metadata": {},
   "outputs": [],
   "source": [
    "#call mylist already shuffled\n",
    "mylist"
   ]
  },
  {
   "cell_type": "code",
   "execution_count": null,
   "metadata": {},
   "outputs": [],
   "source": [
    "#import library- randint function\n",
    "##grabs a random integer\n",
    "from random import randint"
   ]
  },
  {
   "cell_type": "code",
   "execution_count": null,
   "metadata": {},
   "outputs": [],
   "source": [
    "#random integer from this range\n",
    "randint(0,10)"
   ]
  },
  {
   "cell_type": "code",
   "execution_count": null,
   "metadata": {},
   "outputs": [],
   "source": [
    "#save as a variable to use later\n",
    "mynum= randint(0,10)\n",
    "mynum"
   ]
  },
  {
   "cell_type": "markdown",
   "metadata": {},
   "source": [
    "### input\n",
    "- have user input information requested\n",
    "- always excepts anything that is passed into it as a **string**"
   ]
  },
  {
   "cell_type": "code",
   "execution_count": null,
   "metadata": {},
   "outputs": [],
   "source": [
    "input('enter a number here')"
   ]
  },
  {
   "cell_type": "code",
   "execution_count": null,
   "metadata": {},
   "outputs": [],
   "source": [
    "#would typically save a  variable result to use later\n",
    "result = input('What is your name? ')"
   ]
  },
  {
   "cell_type": "code",
   "execution_count": null,
   "metadata": {},
   "outputs": [],
   "source": [
    "#call result\n",
    "result"
   ]
  },
  {
   "cell_type": "code",
   "execution_count": null,
   "metadata": {},
   "outputs": [],
   "source": [
    "#would typically save a  variable result to use later\n",
    "favnum = input('What is your favorite number? ')\n",
    "favnum"
   ]
  },
  {
   "cell_type": "code",
   "execution_count": null,
   "metadata": {},
   "outputs": [],
   "source": [
    "#see datatype of favnum, because it was from input, it will be a string\n",
    "type(favnum)"
   ]
  },
  {
   "cell_type": "code",
   "execution_count": null,
   "metadata": {},
   "outputs": [],
   "source": [
    "#retrieve favnum as an integer\n",
    "int(favnum)"
   ]
  },
  {
   "cell_type": "code",
   "execution_count": null,
   "metadata": {},
   "outputs": [],
   "source": [
    "#in order to retrieve the result as an integer alredy must CAST the input\n",
    "favnum2 = int(input('What is your favorite number? '))\n",
    "favnum2"
   ]
  },
  {
   "cell_type": "code",
   "execution_count": null,
   "metadata": {},
   "outputs": [],
   "source": [
    "#see datatype of favnum2- should be int because input was cast as int\n",
    "type(favnum2)"
   ]
  },
  {
   "cell_type": "markdown",
   "metadata": {},
   "source": [
    "---"
   ]
  },
  {
   "cell_type": "markdown",
   "metadata": {},
   "source": [
    "## List Comprehension\n",
    "- unique way of quickly creating a list\n",
    "- for loop with .append\n",
    "- **Syntax**: variable = [element for element in string]"
   ]
  },
  {
   "cell_type": "code",
   "execution_count": null,
   "metadata": {},
   "outputs": [],
   "source": [
    "mystring = 'hello'"
   ]
  },
  {
   "cell_type": "code",
   "execution_count": null,
   "metadata": {},
   "outputs": [],
   "source": [
    "#create an empty list\n",
    "mylist= []\n",
    "\n",
    "#iterate through my string\n",
    "for letter in mystring:\n",
    "    #call specific location\n",
    "    mylist.append(letter)"
   ]
  },
  {
   "cell_type": "code",
   "execution_count": null,
   "metadata": {},
   "outputs": [],
   "source": [
    "#call mylist\n",
    "mylist"
   ]
  },
  {
   "cell_type": "code",
   "execution_count": null,
   "metadata": {},
   "outputs": [],
   "source": [
    "#more efficient way- list comprehension\n",
    "mylist= [letter for letter in mystring] #flattened out for loop\n",
    "mylist"
   ]
  },
  {
   "cell_type": "code",
   "execution_count": null,
   "metadata": {},
   "outputs": [],
   "source": [
    "#list comp- \n",
    "mylist = [x for x in 'word']\n",
    "mylist"
   ]
  },
  {
   "cell_type": "code",
   "execution_count": null,
   "metadata": {},
   "outputs": [],
   "source": [
    "mylist = [num for num in range(0,11)]\n",
    "mylist"
   ]
  },
  {
   "cell_type": "code",
   "execution_count": null,
   "metadata": {},
   "outputs": [],
   "source": [
    "#can run equations on list comprehensions\n",
    "mylist = [num**2 for num in range(0,11)]\n",
    "mylist"
   ]
  },
  {
   "cell_type": "code",
   "execution_count": null,
   "metadata": {},
   "outputs": [],
   "source": [
    "#can add if statements\n",
    "##only grab even numbers\n",
    "mylist= [x for x in range (0,11) if x %2 ==0]\n",
    "mylist"
   ]
  },
  {
   "cell_type": "code",
   "execution_count": null,
   "metadata": {},
   "outputs": [],
   "source": [
    "#list of numbers in celcius\n",
    "celcius = [0,10,20,34.5]\n",
    "\n",
    "#calculate fahrenheit using list compr\n",
    "fahrenheit = [( (9/5)*temp + 32) for temp in celcius]"
   ]
  },
  {
   "cell_type": "code",
   "execution_count": null,
   "metadata": {},
   "outputs": [],
   "source": [
    "#call degrees in fahrenheit\n",
    "fahrenheit"
   ]
  },
  {
   "cell_type": "code",
   "execution_count": null,
   "metadata": {},
   "outputs": [],
   "source": [
    "#long way of doing this using for loop:\n",
    "## create empty list\n",
    "fahrenheit = []\n",
    "\n",
    "#for loop\n",
    "for temp in celcius:\n",
    "    #append calculation to convert from celcius\n",
    "    fahrenheit.append(( (9/5)*temp + 32))"
   ]
  },
  {
   "cell_type": "code",
   "execution_count": null,
   "metadata": {},
   "outputs": [],
   "source": [
    "#call degrees fahrenheit\n",
    "fahrenheit"
   ]
  },
  {
   "cell_type": "markdown",
   "metadata": {},
   "source": [
    "### if/ else statements inside list comprehension\n",
    "- not ideal way of doing this\n",
    "- can be difficult to read later"
   ]
  },
  {
   "cell_type": "code",
   "execution_count": null,
   "metadata": {},
   "outputs": [],
   "source": [
    "#if even- print out, if odd- print odd\n",
    "results = [x if x%2 == 0 else 'ODD' for x in range (0,11)]\n",
    "results"
   ]
  },
  {
   "cell_type": "markdown",
   "metadata": {},
   "source": [
    "### Nested Looop"
   ]
  },
  {
   "cell_type": "code",
   "execution_count": null,
   "metadata": {},
   "outputs": [],
   "source": [
    "#create empty list\n",
    "mylist = []\n",
    "\n",
    "#first list- x\n",
    "for x in [2,4,6]:\n",
    "    #second list- y\n",
    "    for y in [1,10,1000]:\n",
    "        mylist.append(x*y)"
   ]
  },
  {
   "cell_type": "code",
   "execution_count": null,
   "metadata": {},
   "outputs": [],
   "source": [
    "#call mylist\n",
    "mylist"
   ]
  },
  {
   "cell_type": "code",
   "execution_count": null,
   "metadata": {},
   "outputs": [],
   "source": [
    "#somewhat difficult to read\n",
    "mylist = [x*y for x in [2,4,6] for y in [1,10,1000]]\n",
    "mylist"
   ]
  },
  {
   "cell_type": "markdown",
   "metadata": {},
   "source": [
    "<hr style=\"border:2px solid black\"> </hr>"
   ]
  },
  {
   "cell_type": "markdown",
   "metadata": {},
   "source": [
    "# Section 6: Methods and Functions"
   ]
  },
  {
   "cell_type": "markdown",
   "metadata": {},
   "source": [
    "---"
   ]
  },
  {
   "cell_type": "markdown",
   "metadata": {},
   "source": [
    "## Methods & Documentation"
   ]
  },
  {
   "cell_type": "markdown",
   "metadata": {},
   "source": [
    "### Methods\n",
    "- .append()\n",
    "- .pop()\n",
    "<br>\n",
    "\n",
    "- hit .'tab': will give you all options\n",
    "- hit 'shift' + 'tab': will give you info for that method\n",
    "\n",
    "### Documentation\n",
    "- help\n",
    "- look at documentation"
   ]
  },
  {
   "cell_type": "code",
   "execution_count": 1,
   "metadata": {},
   "outputs": [],
   "source": [
    "mylist = [1,2,3]"
   ]
  },
  {
   "cell_type": "code",
   "execution_count": 2,
   "metadata": {},
   "outputs": [
    {
     "data": {
      "text/plain": [
       "[1, 2, 3, 4]"
      ]
     },
     "execution_count": 2,
     "metadata": {},
     "output_type": "execute_result"
    }
   ],
   "source": [
    "#add to\n",
    "mylist.append(4)\n",
    "#look at new list\n",
    "mylist"
   ]
  },
  {
   "cell_type": "code",
   "execution_count": 3,
   "metadata": {},
   "outputs": [
    {
     "data": {
      "text/plain": [
       "[1, 2, 3]"
      ]
     },
     "execution_count": 3,
     "metadata": {},
     "output_type": "execute_result"
    }
   ],
   "source": [
    "#remove last item on list\n",
    "mylist.pop()\n",
    "#look at list\n",
    "mylist"
   ]
  },
  {
   "cell_type": "code",
   "execution_count": 5,
   "metadata": {},
   "outputs": [
    {
     "name": "stdout",
     "output_type": "stream",
     "text": [
      "Help on built-in function insert:\n",
      "\n",
      "insert(index, object, /) method of builtins.list instance\n",
      "    Insert object before index.\n",
      "\n"
     ]
    }
   ],
   "source": [
    "#get docstring on this method\n",
    "help(mylist.insert)"
   ]
  },
  {
   "cell_type": "markdown",
   "metadata": {},
   "source": [
    "---"
   ]
  },
  {
   "cell_type": "markdown",
   "metadata": {},
   "source": [
    "## Intro to Functions\n",
    "- Functions allow us to create blocks of code that can be easily rerun multiple times **without** having to rewrite that code"
   ]
  },
  {
   "cell_type": "code",
   "execution_count": null,
   "metadata": {},
   "outputs": [],
   "source": []
  },
  {
   "cell_type": "code",
   "execution_count": null,
   "metadata": {},
   "outputs": [],
   "source": []
  },
  {
   "cell_type": "code",
   "execution_count": null,
   "metadata": {},
   "outputs": [],
   "source": []
  },
  {
   "cell_type": "code",
   "execution_count": null,
   "metadata": {},
   "outputs": [],
   "source": []
  }
 ],
 "metadata": {
  "kernelspec": {
   "display_name": "Python 3",
   "language": "python",
   "name": "python3"
  },
  "language_info": {
   "codemirror_mode": {
    "name": "ipython",
    "version": 3
   },
   "file_extension": ".py",
   "mimetype": "text/x-python",
   "name": "python",
   "nbconvert_exporter": "python",
   "pygments_lexer": "ipython3",
   "version": "3.8.5"
  }
 },
 "nbformat": 4,
 "nbformat_minor": 4
}
