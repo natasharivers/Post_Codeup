{
 "cells": [
  {
   "cell_type": "markdown",
   "metadata": {},
   "source": [
    "# Splunk Intro"
   ]
  },
  {
   "cell_type": "markdown",
   "metadata": {},
   "source": [
    "---"
   ]
  },
  {
   "cell_type": "markdown",
   "metadata": {},
   "source": [
    "## What is Splunk?\n",
    "- Splunk captures, indexes and correlates real-time data in a searchable repository\n",
    "    - from this... we can generate graphs, reports, alerts dashboards and visuals.\n",
    "- Splunk is a powerful platform for analyzing machine data"
   ]
  },
  {
   "cell_type": "markdown",
   "metadata": {},
   "source": [
    "---"
   ]
  },
  {
   "cell_type": "markdown",
   "metadata": {},
   "source": [
    "- Start with **data**, in these forms:\n",
    "    - logs\n",
    "    - csvs\n",
    "    - databases\n",
    "\n",
    "<br>\n",
    "\n",
    "- **Indexes**:\n",
    "    - how we store the data\n",
    "    - like: tables in a database\n",
    "\n",
    "<br>\n",
    "\n",
    "- **Search Processing Language (SPL)**:\n",
    "    - how we query the data\n",
    "    - all data indexed as \"events\"\n",
    "\n",
    "<br>\n",
    "\n",
    "- **End users**:\n",
    "    - want to see dashboards\n",
    "\n",
    "<br>\n",
    "\n",
    "- **Time range**:\n",
    "    - one of the best ways to improve performance in Splunk\n",
    "    - limiting time range greatly improves the results"
   ]
  },
  {
   "cell_type": "markdown",
   "metadata": {},
   "source": [
    "<hr style=\"border:1px solid black\"> </hr>"
   ]
  },
  {
   "cell_type": "markdown",
   "metadata": {},
   "source": [
    "# Index\n",
    "- collects data from any source\n",
    "\n",
    "### How it works\n",
    "- data enters as raw materials\n",
    "- matches are found in the data\n",
    "- matches are labeled with source types\n",
    "- time stamps are identified and normalized (into consistent format)\n",
    "\n",
    "<br>\n",
    "\n",
    "- splunk>index\n",
    "    - enter query to find events\n",
    "        - analyze data\n",
    "        - normalize data\n",
    "        - classify data\n",
    "        - save report\n",
    "\n",
    "<br>\n",
    "\n",
    "- monitor and alert\n",
    "    - identify issues and problems\n",
    "    - monitor for specific conditions and automatically respond\n",
    "- report and analyze\n",
    "    - creates dashboards"
   ]
  },
  {
   "cell_type": "markdown",
   "metadata": {},
   "source": [
    "<hr style=\"border:1px solid black\"> </hr>"
   ]
  },
  {
   "cell_type": "markdown",
   "metadata": {},
   "source": [
    "# Using Splunk"
   ]
  },
  {
   "cell_type": "markdown",
   "metadata": {},
   "source": [
    "## Apps:\n",
    "- preconfigured environments\n",
    "- workspaces built to solve a specific case\n",
    "- defined by a Administrator roll\n",
    "\n",
    "<br>\n",
    "\n",
    "### Default Apps in Splunk:\n",
    "Splunk comes with 2 default apps\n",
    "   - **Home**\n",
    "       - quick place to explore\n",
    "       - set custom dashboards\n",
    "       - Administrators can create new Apps from \"Home\"\n",
    "   - **Search and Report**\n",
    "       - queries can be made here\n",
    "       - search and analyze data"
   ]
  },
  {
   "cell_type": "markdown",
   "metadata": {},
   "source": [
    "## 3 Main Roles:\n",
    "**Roll**: determine what the user is able to see, do and interact with\n",
    "\n",
    "- **Administrator**\n",
    "    - most powerful\n",
    "    - can install apps\n",
    "    - ingest data\n",
    "    - create knowledge objects for all users\n",
    "- **Power**\n",
    "    - can create and share knowledge objects\n",
    "    - can do realtime searches\n",
    "- **User**\n",
    "    - can only see their own knowledge objects and those shared with them\n"
   ]
  },
  {
   "cell_type": "markdown",
   "metadata": {},
   "source": [
    "<hr style=\"border:1px solid black\"> </hr>"
   ]
  },
  {
   "cell_type": "markdown",
   "metadata": {},
   "source": [
    "# Using Search"
   ]
  },
  {
   "cell_type": "markdown",
   "metadata": {},
   "source": [
    "If looking for possible security breaches in last week...\n",
    "- use search and reporting app\n",
    "- in search bar type \"failed\"\n",
    "- then select \"last 7 days\" in time range picker \n",
    "- new search page will open\n",
    "\n",
    "<br>\n",
    "\n",
    "### Tabs:\n",
    "- **events tab**: will show you how many instances of \"failed\" logins there were\n",
    "- **patters tab**: shows patters within the data\n",
    "- **statistics tab**: shows statistical \n",
    "- **visuals tab**: shows visuals from gathered data (if any available)\n",
    "\n",
    "#### Commands that create stats and viz are called \"transforming commands\""
   ]
  },
  {
   "cell_type": "markdown",
   "metadata": {},
   "source": [
    "### Search Time Frames:\n",
    "- search jobs only stay valid for **10 minutes**\n",
    "- ***shared*** search jobs stay valid for **7 days**"
   ]
  },
  {
   "cell_type": "markdown",
   "metadata": {},
   "source": [
    "### 3 Search Modes:\n",
    "- **Fast**:\n",
    "    - cuts down on field information return\n",
    "    - \"field discovery\" disabled for this mode\n",
    "        - only returns info on required or default fields\n",
    "- **Smart**:\n",
    "    - this is the DEFAULT mode\n",
    "    - will toggle behavior based on search you are running\n",
    "    - chooses either fast or verbose mode\n",
    "- **Verbose**:\n",
    "    - returns as much field and even data as possible"
   ]
  },
  {
   "cell_type": "markdown",
   "metadata": {},
   "source": [
    "---"
   ]
  },
  {
   "cell_type": "markdown",
   "metadata": {},
   "source": [
    "# Search Processing Language (SPL)"
   ]
  },
  {
   "cell_type": "markdown",
   "metadata": {},
   "source": [
    "### Wider Searches:\n",
    "- **Wildcards**:\n",
    "    - use astics (*) to find any word starting with root word\n",
    "    - when looking for failed log-ins\n",
    "    - example: \"Fail*\" will result in might want to search failed, fail, failure, etc\n",
    "\n",
    "<br>\n",
    "\n",
    "- **Booleans**:\n",
    "    - order of operation is followed\n",
    "    - anything in parenthasis will be first\n",
    "        - NOT        \n",
    "        - OR\n",
    "        - AND\n",
    "\n",
    "    "
   ]
  },
  {
   "cell_type": "markdown",
   "metadata": {},
   "source": [
    "<hr style=\"border:1px solid black\"> </hr>"
   ]
  },
  {
   "cell_type": "markdown",
   "metadata": {},
   "source": [
    "# 5 Components of Splunk Search Language \n",
    "\n",
    "**Search Terms**:\n",
    "- fondation of Splunk design\n",
    "\n",
    "<br>\n",
    "\n",
    "**Commands**:\n",
    "- tell Splunk what we want to do with results\n",
    "    - create charts\n",
    "    - compute statistics\n",
    "    - formating\n",
    "    \n",
    "<br>\n",
    "\n",
    "**Functions**:\n",
    "- explain how we want to chart, compute and evaluate results\n",
    "\n",
    "<br>\n",
    "\n",
    "**Arguments**:\n",
    "- variables we want to apply to the funcitons\n",
    "\n",
    "<br>\n",
    "\n",
    "**Clauses**:\n",
    "- how we want results grouped in a search"
   ]
  },
  {
   "cell_type": "markdown",
   "metadata": {},
   "source": [
    "---"
   ]
  },
  {
   "cell_type": "markdown",
   "metadata": {},
   "source": [
    "### Example Seach:\n",
    "- soucetype=cisco_wsa_squid usage=Violation | stats count(usage) as Visits\n",
    "\n",
    "#### Breakdown Components:\n",
    "   - **Search Terms**: soucetype=cisco_wsa_squid usage=Violation\n",
    "   - **Command**: stats\n",
    "   - **Function**: count\n",
    "   - **Argument**: usage\n",
    "   - **Clause**: as"
   ]
  },
  {
   "cell_type": "markdown",
   "metadata": {},
   "source": [
    "<hr style=\"border:1px solid black\"> </hr>"
   ]
  },
  {
   "cell_type": "markdown",
   "metadata": {},
   "source": [
    "# Best Practices"
   ]
  },
  {
   "cell_type": "markdown",
   "metadata": {},
   "source": [
    "### Case Sensativity:\n",
    "- search terms, clauses and commands are **NOT** case sensative\n",
    "- if using \"replace\" command, that **IS** case sensative\n",
    "\n",
    "### Search Effectiveness:\n",
    "- using time to limit event return is most efficient\n",
    "- Next efficient are:\n",
    "    - index\n",
    "    - source\n",
    "    - host\n",
    "    - sourcetype \n",
    "    \n",
    "### Other best practices:\n",
    "- the more you tell the search, the better the results\n",
    "    - use \"failed password\" instead of just \"password\"\n",
    "- inclusion is better than exclusion\n",
    "    - use \"access denied\" instead of \"not access granted\"\n",
    "- use OR or IN operators instead of wildcards (*) when possible\n",
    "- filter early in your search command"
   ]
  },
  {
   "cell_type": "markdown",
   "metadata": {},
   "source": [
    "<hr style=\"border:1px solid black\"> </hr>"
   ]
  },
  {
   "cell_type": "markdown",
   "metadata": {},
   "source": []
  },
  {
   "cell_type": "markdown",
   "metadata": {},
   "source": []
  },
  {
   "cell_type": "markdown",
   "metadata": {},
   "source": []
  },
  {
   "cell_type": "markdown",
   "metadata": {},
   "source": []
  }
 ],
 "metadata": {
  "kernelspec": {
   "display_name": "Python 3",
   "language": "python",
   "name": "python3"
  },
  "language_info": {
   "codemirror_mode": {
    "name": "ipython",
    "version": 3
   },
   "file_extension": ".py",
   "mimetype": "text/x-python",
   "name": "python",
   "nbconvert_exporter": "python",
   "pygments_lexer": "ipython3",
   "version": "3.8.5"
  }
 },
 "nbformat": 4,
 "nbformat_minor": 4
}
