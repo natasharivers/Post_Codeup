{
 "cells": [
  {
   "cell_type": "markdown",
   "metadata": {},
   "source": [
    "# Splunk Intro"
   ]
  },
  {
   "cell_type": "markdown",
   "metadata": {},
   "source": [
    "---"
   ]
  },
  {
   "cell_type": "markdown",
   "metadata": {},
   "source": [
    "## What is Splunk?\n",
    "- Splunk captures, indexes and correlates real-time data in a searchable repository\n",
    "    - from this... we can generate graphs, reports, alerts dashboards and visuals."
   ]
  },
  {
   "cell_type": "markdown",
   "metadata": {},
   "source": [
    "---"
   ]
  },
  {
   "cell_type": "markdown",
   "metadata": {},
   "source": [
    "- Start with **data**, in these forms:\n",
    "    - logs\n",
    "    - csvs\n",
    "    - databases\n",
    "\n",
    "<br>\n",
    "\n",
    "- **Indexes**:\n",
    "    - how we store the data\n",
    "    - like: tables in a database\n",
    "\n",
    "<br>\n",
    "\n",
    "- **Search Processing Language (SPL)**:\n",
    "    - how we query the data\n",
    "    - all data indexed as \"events\"\n",
    "\n",
    "<br>\n",
    "\n",
    "- **End users**:\n",
    "    - want to see dashboards\n",
    "\n",
    "<br>\n",
    "\n",
    "- **Time range**:\n",
    "    - one of the best ways to improve performance in Splunk\n",
    "    - limiting time range greatly improves the results"
   ]
  },
  {
   "cell_type": "markdown",
   "metadata": {},
   "source": []
  },
  {
   "cell_type": "markdown",
   "metadata": {},
   "source": []
  },
  {
   "cell_type": "markdown",
   "metadata": {},
   "source": []
  },
  {
   "cell_type": "markdown",
   "metadata": {},
   "source": []
  },
  {
   "cell_type": "markdown",
   "metadata": {},
   "source": []
  }
 ],
 "metadata": {
  "kernelspec": {
   "display_name": "Python 3",
   "language": "python",
   "name": "python3"
  },
  "language_info": {
   "codemirror_mode": {
    "name": "ipython",
    "version": 3
   },
   "file_extension": ".py",
   "mimetype": "text/x-python",
   "name": "python",
   "nbconvert_exporter": "python",
   "pygments_lexer": "ipython3",
   "version": "3.8.5"
  }
 },
 "nbformat": 4,
 "nbformat_minor": 4
}
