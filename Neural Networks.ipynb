{
 "cells": [
  {
   "cell_type": "markdown",
   "metadata": {},
   "source": [
    "# Artificial Neural Networks\n",
    "- computational models inspired by human brain\n",
    "- information processing system\n",
    "    - predictive analytics\n",
    "    - robotics\n",
    "    - data processing\n",
    "- similar characteristics to biological neural network\n",
    "\n",
    "### Features:\n",
    "- 10 to 1000 neurons (depending on resources)\n",
    "- **speed** depends on hardware\n",
    "- **learns** with predefined models\n",
    "\n",
    "### Structure:\n",
    "- input vector\n",
    "- scalar output\n",
    "- non-linear characteristics\n",
    "- input accumulator"
   ]
  },
  {
   "cell_type": "markdown",
   "metadata": {},
   "source": [
    "## Technical Neural Network\n",
    "\n",
    "- Important elements:\n",
    "    - simple processing units\n",
    "    - neurons\n",
    "    - direceted and weighted connected between neurons\n",
    "    - activation state indicating extent of activiation"
   ]
  },
  {
   "cell_type": "markdown",
   "metadata": {},
   "source": [
    "---"
   ]
  },
  {
   "cell_type": "markdown",
   "metadata": {},
   "source": [
    "# Biologicial Neural Networks\n",
    "- information processing\n",
    "- neurons connected to process signals\n",
    "- signals passed along neurons over connections\n",
    "- apply \"activation function\"\n",
    "- neurons can only send one signal at a time\n",
    "\n",
    "### Features:\n",
    "- massive connectivitiy\n",
    "- nonlinearl, parallel\n",
    "- capable of adapoting\n",
    "- ability to learn and generalize from known examples\n",
    "- trillions of neurons in network\n",
    "- **speed**- fires at 200 times per second\n",
    "- **learns** with neuroplasticity\n",
    "\n",
    "### Structure:\n",
    "- **Dendrites**: \n",
    "    - tree like extensions at surface of the neuron\n",
    "    - transmit information to soma\n",
    "- **Soma** (cell body):\n",
    "    - all signals from dendrites are collected\n",
    "    - signals joined and passed on for processing\n",
    "    - made of numerous organelles\n",
    "    - produces RNA which helps support function (fuel)\n",
    "- **Axon**:\n",
    "    - end of soma\n",
    "    - responsible for firing neuron\n",
    "    - manager of the cell\n",
    "    - transmit neural signals"
   ]
  },
  {
   "cell_type": "markdown",
   "metadata": {},
   "source": [
    "---"
   ]
  },
  {
   "cell_type": "markdown",
   "metadata": {},
   "source": [
    "# Neural Network Building Blocks\n",
    "\n",
    "### 3 Important Concepts\n",
    "1. **network topology**:\n",
    "    - depicts the ways that neurons are connected to build a network\n",
    "    - an arrangment of networks\n",
    "    - essential elements\n",
    "        - neural framework: follows layered topology\n",
    "        - interconnection structure\n",
    "\n",
    "2. **adjustments of weights or learning**\n",
    "\n",
    "3. **activation functions**\n",
    "\n",
    "### Types of Neurons\n",
    "- **input**: recieve external input\n",
    "- **output**: produce output of the network\n",
    "- **hidden**: have no interaction outside the network\n",
    "    \n",
    "### Layers of Neurons\n",
    "- input layer\n",
    "- hidden layer\n",
    "- output layer"
   ]
  },
  {
   "cell_type": "markdown",
   "metadata": {},
   "source": [
    "---"
   ]
  },
  {
   "cell_type": "markdown",
   "metadata": {},
   "source": [
    "# Computation Models"
   ]
  },
  {
   "cell_type": "code",
   "execution_count": null,
   "metadata": {},
   "outputs": [],
   "source": []
  }
 ],
 "metadata": {
  "kernelspec": {
   "display_name": "Python 3",
   "language": "python",
   "name": "python3"
  },
  "language_info": {
   "codemirror_mode": {
    "name": "ipython",
    "version": 3
   },
   "file_extension": ".py",
   "mimetype": "text/x-python",
   "name": "python",
   "nbconvert_exporter": "python",
   "pygments_lexer": "ipython3",
   "version": "3.8.5"
  }
 },
 "nbformat": 4,
 "nbformat_minor": 4
}
