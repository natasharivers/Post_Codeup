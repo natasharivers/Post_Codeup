{
 "cells": [
  {
   "cell_type": "markdown",
   "metadata": {},
   "source": [
    "## Artificial Neural Networks\n",
    "- information processing system\n",
    "    - predictive analytics\n",
    "    - robotics\n",
    "    - data processing\n",
    "- similar characteristics to biological neural netwrk\n",
    "\n",
    "### Features:\n",
    "- 10 to 1000 neurons (depending on resources)\n",
    "- **speed** depends on hardware\n",
    "- **learns** with predefined models\n",
    "\n",
    "### Structure:\n"
   ]
  },
  {
   "cell_type": "markdown",
   "metadata": {},
   "source": [
    "---"
   ]
  },
  {
   "cell_type": "markdown",
   "metadata": {},
   "source": [
    "## Biologicial Neural Networks\n",
    "- information processing\n",
    "- neurons connected to process signals\n",
    "- signals passed along neurons over connections\n",
    "- apply \"activation function\"\n",
    "- neurons can only send one signal at a time\n",
    "\n",
    "### Features:\n",
    "- massive connectivitiy\n",
    "- nonlinearl, parallel\n",
    "- capable of adapoting\n",
    "- ability to learn and generalize from known examples\n",
    "- trillions of neurons in network\n",
    "- **speed**- fires at 200 times per second\n",
    "- **learns** with neuroplasticity\n",
    "\n",
    "### Structure:\n",
    "- **Dendrites**: \n",
    "    - tree like extensions at surface of the neuron\n",
    "    - transmit information to soma\n",
    "- **Soma** (cell body):\n",
    "    - all signals from dendrites are collected\n",
    "    - signals joined and passed on for processing\n",
    "    - made of numerous organelles\n",
    "    - produces RNA which helps support function (fuel)\n",
    "- **Axon**:\n",
    "    - end of soma\n",
    "    - responsible for firing neuron\n",
    "    - manager of the cell\n",
    "    - transmit neural signals"
   ]
  },
  {
   "cell_type": "markdown",
   "metadata": {},
   "source": [
    "---"
   ]
  },
  {
   "cell_type": "code",
   "execution_count": null,
   "metadata": {},
   "outputs": [],
   "source": []
  },
  {
   "cell_type": "code",
   "execution_count": null,
   "metadata": {},
   "outputs": [],
   "source": []
  },
  {
   "cell_type": "code",
   "execution_count": null,
   "metadata": {},
   "outputs": [],
   "source": []
  },
  {
   "cell_type": "code",
   "execution_count": null,
   "metadata": {},
   "outputs": [],
   "source": []
  }
 ],
 "metadata": {
  "kernelspec": {
   "display_name": "Python 3",
   "language": "python",
   "name": "python3"
  },
  "language_info": {
   "codemirror_mode": {
    "name": "ipython",
    "version": 3
   },
   "file_extension": ".py",
   "mimetype": "text/x-python",
   "name": "python",
   "nbconvert_exporter": "python",
   "pygments_lexer": "ipython3",
   "version": "3.8.5"
  }
 },
 "nbformat": 4,
 "nbformat_minor": 4
}
