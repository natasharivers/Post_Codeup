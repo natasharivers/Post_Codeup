{
 "cells": [
  {
   "cell_type": "markdown",
   "metadata": {},
   "source": [
    "# Artificial Neural Networks (ANN)\n",
    "- computational models inspired by human brain\n",
    "- information processing system\n",
    "    - predictive analytics\n",
    "    - robotics\n",
    "    - data processing\n",
    "- similar characteristics to biological neural network\n",
    "\n",
    "### Features:\n",
    "- 10 to 1000 neurons (depending on resources)\n",
    "- **speed** depends on hardware\n",
    "- **learns** with predefined models\n",
    "\n",
    "### Structure:\n",
    "- input vector\n",
    "- scalar output\n",
    "- non-linear characteristics\n",
    "- input accumulator"
   ]
  },
  {
   "cell_type": "markdown",
   "metadata": {},
   "source": [
    "## Technical Neural Network\n",
    "\n",
    "- Important elements:\n",
    "    - simple processing units\n",
    "    - neurons\n",
    "    - direceted and weighted connected between neurons\n",
    "    - activation state indicating extent of activiation"
   ]
  },
  {
   "cell_type": "markdown",
   "metadata": {},
   "source": [
    "<hr style=\"border:2px solid black\"> </hr>"
   ]
  },
  {
   "cell_type": "markdown",
   "metadata": {},
   "source": [
    "# Biologicial Neural Networks (BNN)\n",
    "- information processing\n",
    "- neurons connected to process signals\n",
    "- signals passed along neurons over connections\n",
    "- apply \"activation function\"\n",
    "- neurons can only send one signal at a time\n",
    "\n",
    "### Features:\n",
    "- massive connectivitiy\n",
    "- nonlinearl, parallel\n",
    "- capable of adapoting\n",
    "- ability to learn and generalize from known examples\n",
    "- trillions of neurons in network\n",
    "- **speed**- fires at 200 times per second\n",
    "- **learns** with neuroplasticity\n",
    "\n",
    "### Structure:\n",
    "- **Dendrites**: \n",
    "    - tree like extensions at surface of the neuron\n",
    "    - transmit information to soma\n",
    "- **Soma** (cell body):\n",
    "    - all signals from dendrites are collected\n",
    "    - signals joined and passed on for processing\n",
    "    - made of numerous organelles\n",
    "    - produces RNA which helps support function (fuel)\n",
    "- **Axon**:\n",
    "    - end of soma\n",
    "    - responsible for firing neuron\n",
    "    - manager of the cell\n",
    "    - transmit neural signals"
   ]
  },
  {
   "cell_type": "markdown",
   "metadata": {},
   "source": [
    "<hr style=\"border:2px solid black\"> </hr>"
   ]
  },
  {
   "cell_type": "markdown",
   "metadata": {},
   "source": [
    "# Neural Network Building Blocks\n",
    "\n",
    "### 3 Important Concepts\n",
    "1. **network topology**:\n",
    "    - depicts the ways that neurons are connected to build a network\n",
    "    - an arrangment of networks\n",
    "    - essential elements\n",
    "        - neural framework: follows layered topology\n",
    "        - interconnection structure\n",
    "\n",
    "2. **adjustments of weights or learning**\n",
    "\n",
    "3. **activation functions**\n",
    "\n",
    "### Types of Neurons\n",
    "- **input**: recieve external input\n",
    "- **output**: produce output of the network\n",
    "- **hidden**: have no interaction outside the network\n",
    "    \n",
    "### Layers of Neurons\n",
    "- input layer\n",
    "- hidden layer\n",
    "- output layer"
   ]
  },
  {
   "cell_type": "markdown",
   "metadata": {},
   "source": [
    "<hr style=\"border:2px solid black\"> </hr>"
   ]
  },
  {
   "cell_type": "markdown",
   "metadata": {},
   "source": [
    "# Computational Models"
   ]
  },
  {
   "cell_type": "markdown",
   "metadata": {},
   "source": [
    "## **Feed-Forward Neural Network**\n",
    "   - simplist form of ANN computational modeling\n",
    "   - contains multiple neurons arranged in layers\n",
    "   - information moves ONLY in **one** direction\n",
    "   - input --> hidden neurons --> output neurons\n",
    "   - AKA multilayer perceptron\n",
    "   - used to calculate output layers values\n",
    "    \n",
    "### Activation Functions:\n",
    "- **Logistic Functions**:\n",
    "    - hyperbolic tangent functions\n",
    "       - AKA \"tan h function\"\n",
    "       - output from -1 to 1\n",
    "- **Linear Functions**:\n",
    "    - Sigmoid non-linearity\n",
    "        - binary classification\n",
    "    - Steepest Descent algorithm\n",
    "        - multicriteria optimization\n",
    "    \n",
    "\n",
    "## **Recurrent Neural Network**\n",
    "   - hidden layer neurons have loop connections\n",
    "   - neurons contain memory\n",
    "   - use saturating and non-saturating transfer mechanisms\n",
    "   - objective: to utilize sequential information\n",
    "   - converts independent activations\n",
    "   - memorizing not required\n"
   ]
  },
  {
   "cell_type": "markdown",
   "metadata": {},
   "source": [
    "<hr style=\"border:2px solid black\"> </hr>"
   ]
  },
  {
   "cell_type": "markdown",
   "metadata": {},
   "source": [
    "# Neuron Interconnection\n",
    "- Determines how the neurons are linked\n",
    "\n",
    "### Types of connections:\n",
    "- **Interlayer**: exist between layers\n",
    "    - Types of interlayer connections:\n",
    "       - fully connected\n",
    "       - partially connected\n",
    "       - feed forward: 1st layer to 2nd layer\n",
    "       - bi-directional: 2nd layer to 1st layer\n",
    " \n",
    " <br>\n",
    " \n",
    "- **Intra-Layer**: neurons communicate among themselves\n",
    "    - Types of intra-layer connections:\n",
    "       - recurrent\n",
    "       - off-center\n",
    "\n",
    "<br>\n",
    "\n",
    "- **Self**: connects a neuron to itself\n",
    "    - a form of intra-layer\n",
    " \n",
    " <br>\n",
    " \n",
    "- **Supra-layer**: connection between neurons that are present in distinct layers but not adjacent to eachother\n",
    "    - connection crosses at least one hidden layer"
   ]
  },
  {
   "cell_type": "markdown",
   "metadata": {},
   "source": [
    "---"
   ]
  },
  {
   "cell_type": "markdown",
   "metadata": {},
   "source": [
    "## Strength/Weight of Connection\n",
    "\n",
    "#### Strength Based Connection Types:\n",
    "- can be positive, negative or zero\n",
    "    - when weight is **positive** = connection **excitatory**\n",
    "    - when weight is **negative** = connection **inhibatory**\n",
    "    - when weight is **zero** = connection **non-existent**\n",
    "\n",
    "#### Weight Based Connection Types:\n",
    "- **Symmetric**: \n",
    "    - multi-directional\n",
    "    - one weight\n",
    "    - same in any direction\n",
    "- **Asymmetric**:\n",
    "    - multi-directional\n",
    "    - different weights with different directions"
   ]
  },
  {
   "cell_type": "markdown",
   "metadata": {},
   "source": [
    "<hr style=\"border:2px solid black\"> </hr>"
   ]
  },
  {
   "cell_type": "markdown",
   "metadata": {},
   "source": [
    "# Threshold Functions\n",
    "- key component of ANN\n",
    "- **objective**: determine whether neuron is activated or not\n",
    "- used ub systems based on BNN\n",
    "- boolean function"
   ]
  },
  {
   "cell_type": "markdown",
   "metadata": {},
   "source": [
    "### 5 Types of Threshold Functions\n",
    "- **Unit Step**:\n",
    "    - output set at < or >\n",
    "    - determine if total output is < or > predefined output value\n",
    "- **Sigmoid**:\n",
    "    - containts 2 addition functions\n",
    "        - logistic: 0 to 1\n",
    "        - tangental: -1 to 1\n",
    "- **Piecewise Linear**:\n",
    "    - output is directionally proportional to wieghted output\n",
    "- **Gaussian**:\n",
    "    - bell-shaped, continous curves\n",
    "    - neuron values can be low of high\n",
    "- **Linear**:\n",
    "    - similar to linear regression\n",
    "    - weighted sum input of neurons to outputs"
   ]
  },
  {
   "cell_type": "markdown",
   "metadata": {},
   "source": [
    "---"
   ]
  },
  {
   "cell_type": "markdown",
   "metadata": {},
   "source": [
    "## 3 Types of Logic Gates\n",
    "- **AND Gate**\n",
    "    - output value is 1 when **BOTH** inputs are 1\n",
    "\n",
    "- **OR Gate**\n",
    "    - output value is 1 when **ONE** input is 1\n",
    "\n",
    "- **XNOR Gate**\n",
    "    - output value is 1 when **BOTH** values are the **SAME**"
   ]
  },
  {
   "cell_type": "markdown",
   "metadata": {},
   "source": [
    "<hr style=\"border:2px solid black\"> </hr>"
   ]
  },
  {
   "cell_type": "markdown",
   "metadata": {},
   "source": [
    "# Implementing Neural Networks"
   ]
  },
  {
   "cell_type": "code",
   "execution_count": 1,
   "metadata": {},
   "outputs": [],
   "source": [
    "#imports\n",
    "from numpy import array, random, dot, tanh"
   ]
  },
  {
   "cell_type": "code",
   "execution_count": 7,
   "metadata": {},
   "outputs": [],
   "source": [
    "class NeuralNetworkSample():\n",
    "    def __init__(self):\n",
    "        random.seed(1)\n",
    "        self.weight_matrix = 2 * random.random((3,1)) - 1\n",
    "    \n",
    "    def tanh(self, x):\n",
    "        return tanh(x)\n",
    "    \n",
    "    def tanh_derivative(self, x):\n",
    "        return 1.0 - tanh(x) **2\n",
    "    \n",
    "    def forward_propagation(self, inputs):\n",
    "        return self.tanh(dot(inputs, self.weight_matrix))\n",
    "    \n",
    "    def train(self, train_inputs, train_outputs,\n",
    "                             num_train_iterations):\n",
    "        \n",
    "        for iteration in range(num_train_iterations):\n",
    "            \n",
    "            output = self.forward_propagation(train_inputs)\n",
    "            \n",
    "            error= train_outputs - output\n",
    "            \n",
    "            adjustment = dot(train_inputs.T, error =\n",
    "                            self.tanh_derivative(output))\n",
    "            \n",
    "            self.weight_matrix += adjustment"
   ]
  },
  {
   "cell_type": "code",
   "execution_count": 8,
   "metadata": {},
   "outputs": [
    {
     "name": "stdout",
     "output_type": "stream",
     "text": [
      "Random weights at the start of training\n",
      "[[-0.16595599]\n",
      " [ 0.44064899]\n",
      " [-0.99977125]]\n"
     ]
    },
    {
     "ename": "TypeError",
     "evalue": "dot() got an unexpected keyword argument 'error'",
     "output_type": "error",
     "traceback": [
      "\u001b[0;31m---------------------------------------------------------------------------\u001b[0m",
      "\u001b[0;31mTypeError\u001b[0m                                 Traceback (most recent call last)",
      "\u001b[0;32m<ipython-input-8-4a12e6c567b5>\u001b[0m in \u001b[0;36m<module>\u001b[0;34m\u001b[0m\n\u001b[1;32m      8\u001b[0m     \u001b[0mtrain_outputs\u001b[0m \u001b[0;34m=\u001b[0m \u001b[0marray\u001b[0m\u001b[0;34m(\u001b[0m\u001b[0;34m[\u001b[0m\u001b[0;34m[\u001b[0m\u001b[0;36m0\u001b[0m\u001b[0;34m,\u001b[0m\u001b[0;36m1\u001b[0m\u001b[0;34m,\u001b[0m\u001b[0;36m1\u001b[0m\u001b[0;34m,\u001b[0m\u001b[0;36m0\u001b[0m\u001b[0;34m]\u001b[0m\u001b[0;34m]\u001b[0m\u001b[0;34m)\u001b[0m\u001b[0;34m.\u001b[0m\u001b[0mT\u001b[0m\u001b[0;34m\u001b[0m\u001b[0;34m\u001b[0m\u001b[0m\n\u001b[1;32m      9\u001b[0m \u001b[0;34m\u001b[0m\u001b[0m\n\u001b[0;32m---> 10\u001b[0;31m     \u001b[0mneural_network\u001b[0m\u001b[0;34m.\u001b[0m\u001b[0mtrain\u001b[0m\u001b[0;34m(\u001b[0m\u001b[0mtrain_inputs\u001b[0m\u001b[0;34m,\u001b[0m \u001b[0mtrain_outputs\u001b[0m\u001b[0;34m,\u001b[0m \u001b[0;36m1000\u001b[0m\u001b[0;34m)\u001b[0m\u001b[0;34m\u001b[0m\u001b[0;34m\u001b[0m\u001b[0m\n\u001b[0m\u001b[1;32m     11\u001b[0m \u001b[0;34m\u001b[0m\u001b[0m\n\u001b[1;32m     12\u001b[0m     \u001b[0mprint\u001b[0m\u001b[0;34m(\u001b[0m\u001b[0;34m'New weights after training'\u001b[0m\u001b[0;34m)\u001b[0m\u001b[0;34m\u001b[0m\u001b[0;34m\u001b[0m\u001b[0m\n",
      "\u001b[0;32m<ipython-input-7-1efea2a2cd11>\u001b[0m in \u001b[0;36mtrain\u001b[0;34m(self, train_inputs, train_outputs, num_train_iterations)\u001b[0m\n\u001b[1;32m     22\u001b[0m             \u001b[0merror\u001b[0m\u001b[0;34m=\u001b[0m \u001b[0mtrain_outputs\u001b[0m \u001b[0;34m-\u001b[0m \u001b[0moutput\u001b[0m\u001b[0;34m\u001b[0m\u001b[0;34m\u001b[0m\u001b[0m\n\u001b[1;32m     23\u001b[0m \u001b[0;34m\u001b[0m\u001b[0m\n\u001b[0;32m---> 24\u001b[0;31m             adjustment = dot(train_inputs.T,error =\n\u001b[0m\u001b[1;32m     25\u001b[0m                             self.tanh_derivative(output))\n\u001b[1;32m     26\u001b[0m \u001b[0;34m\u001b[0m\u001b[0m\n",
      "\u001b[0;32m<__array_function__ internals>\u001b[0m in \u001b[0;36mdot\u001b[0;34m(*args, **kwargs)\u001b[0m\n",
      "\u001b[0;31mTypeError\u001b[0m: dot() got an unexpected keyword argument 'error'"
     ]
    }
   ],
   "source": [
    "if __name__ == \"__main__\":\n",
    "    neural_network = NeuralNetworkSample()\n",
    "    \n",
    "    print('Random weights at the start of training')\n",
    "    print(neural_network.weight_matrix)\n",
    "    \n",
    "    train_inputs = array([[0,0,1], [1,1,1], [1,0,1], [0,1,1]])\n",
    "    train_outputs = array([[0,1,1,0]]).T\n",
    "    \n",
    "    neural_network.train(train_inputs, train_outputs, 1000)\n",
    "    \n",
    "    print('New weights after training')\n",
    "    print(neural_network.weight_matrix)"
   ]
  },
  {
   "cell_type": "markdown",
   "metadata": {},
   "source": [
    "<hr style=\"border:2px solid black\"> </hr>"
   ]
  },
  {
   "cell_type": "markdown",
   "metadata": {},
   "source": [
    "# Building NN Models"
   ]
  },
  {
   "cell_type": "markdown",
   "metadata": {},
   "source": [
    "### Use:\n",
    "- **Python**: language\n",
    "- **Keras**: frame work, to simplify code logic\n",
    "- **TensorFlow**: back end, to ensure iterations and executions are faster"
   ]
  },
  {
   "cell_type": "markdown",
   "metadata": {},
   "source": [
    "<hr style=\"border:2px solid black\"> </hr>"
   ]
  },
  {
   "cell_type": "markdown",
   "metadata": {},
   "source": [
    "# Use cases of ANN"
   ]
  },
  {
   "cell_type": "markdown",
   "metadata": {},
   "source": [
    "- **Pattern Recognition**\n",
    "    - auto recognition of handwriting\n",
    "    - face recognition\n",
    "    \n",
    "    <br>\n",
    "    \n",
    "- **Medicine**\n",
    "    - clinical research\n",
    "    - drug analytics\n",
    "    - imagining (cancer detection)\n",
    "    - blood analysis\n",
    "    \n",
    "    <br>\n",
    "    \n",
    "- **Speech Production**\n",
    "    - impliment voices (Siri, Alexa)\n",
    "    \n",
    "    <br>\n",
    "    \n",
    "- **Speech Recognition**\n",
    "    - speech to text\n",
    "    \n",
    "    <br>\n",
    "    \n",
    "- **Business**\n",
    "    - identify key business drivers for forcasting models\n",
    "    - quicker decision making\n",
    "    \n",
    "    <br>\n",
    "    \n",
    "- **Signal processing**\n",
    "    - noise suppression\n",
    "    - adaptive echo"
   ]
  },
  {
   "cell_type": "markdown",
   "metadata": {},
   "source": [
    "### Pattern Recognition Steps\n",
    "1. Input (acquire data)\n",
    "2. Data cleaning (outlier elimination)\n",
    "3. Pass through the ANN\n",
    "4. Output (data representation)"
   ]
  },
  {
   "cell_type": "code",
   "execution_count": null,
   "metadata": {},
   "outputs": [],
   "source": []
  },
  {
   "cell_type": "code",
   "execution_count": null,
   "metadata": {},
   "outputs": [],
   "source": []
  },
  {
   "cell_type": "code",
   "execution_count": null,
   "metadata": {},
   "outputs": [],
   "source": []
  }
 ],
 "metadata": {
  "kernelspec": {
   "display_name": "Python 3",
   "language": "python",
   "name": "python3"
  },
  "language_info": {
   "codemirror_mode": {
    "name": "ipython",
    "version": 3
   },
   "file_extension": ".py",
   "mimetype": "text/x-python",
   "name": "python",
   "nbconvert_exporter": "python",
   "pygments_lexer": "ipython3",
   "version": "3.8.5"
  }
 },
 "nbformat": 4,
 "nbformat_minor": 4
}
