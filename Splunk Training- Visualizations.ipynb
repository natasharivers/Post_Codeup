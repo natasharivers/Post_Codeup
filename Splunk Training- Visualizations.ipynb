{
 "cells": [
  {
   "cell_type": "markdown",
   "metadata": {},
   "source": [
    "# Visualizations"
   ]
  },
  {
   "cell_type": "markdown",
   "metadata": {},
   "source": [
    "<hr style=\"border:3px solid black\"> </hr>"
   ]
  },
  {
   "cell_type": "markdown",
   "metadata": {},
   "source": [
    "# Formatting Command"
   ]
  },
  {
   "cell_type": "markdown",
   "metadata": {},
   "source": [
    "<hr style=\"border:1px solid black\"> </hr>"
   ]
  },
  {
   "cell_type": "markdown",
   "metadata": {},
   "source": [
    "## | fields \n",
    "   - allows you to include or exclude specific fields from search results\n",
    "   - **useful**:\n",
    "       - makes a search faster and more efficient \n",
    "       - limits the number of fields displayed\n",
    "    \n",
    "<br>\n",
    "\n",
    "**EXAMPLE 1**:\n",
    "<br>\n",
    "| fields product_name price\n",
    "<br>\n",
    "^ field command, ^ desired fields to include\n",
    "\n",
    "<br>\n",
    "\n",
    "### Excluding field\n",
    "use minus sign (-) between fields command and field names\n",
    "<br>\n",
    "\n",
    "**EXAMPLE 2**:\n",
    "<br>\n",
    "| fields - product_name price\n",
    "<br>\n",
    "**returns**: all fields EXCEPT product_name and price\n",
    "\n",
    "<br>\n",
    "\n",
    "**MUST** have a space after the minus sign or that command will not work\n",
    "<br>\n",
    "\n",
    "**EXAMPLE 3**:\n",
    "<br>\n",
    "| fields -product_name price\n",
    "<br>\n",
    "**returns**: ONLY returns price field\n",
    "\n",
    "<br>\n",
    "\n",
    "**| fields command defaults to inclusion**"
   ]
  },
  {
   "cell_type": "markdown",
   "metadata": {},
   "source": [
    "---"
   ]
  },
  {
   "cell_type": "markdown",
   "metadata": {},
   "source": [
    "## | table"
   ]
  },
  {
   "cell_type": "markdown",
   "metadata": {},
   "source": [
    "- similar to fields command\n",
    "- specified fields are included or excluded\n",
    "- table command is a **transforming** command\n",
    "- retains the data in a tabulated format\n",
    "\n",
    "<br>\n",
    "\n",
    "- Column Headers = field names\n",
    "- Rows = values\n",
    "- Each row = one event\n",
    "\n",
    "<br>\n",
    "\n",
    "- **Rearrange columns**: return to search and change order of fields inputted"
   ]
  },
  {
   "cell_type": "markdown",
   "metadata": {},
   "source": [
    "**EXAMPLE**:\n",
    "- | table         JSESSIONID   product_name price\n",
    "- ^table command, ^session id, ^desired fields\n",
    "- **returns**: the products that the specific user purchased and for what price"
   ]
  },
  {
   "cell_type": "markdown",
   "metadata": {},
   "source": [
    "---"
   ]
  },
  {
   "cell_type": "markdown",
   "metadata": {},
   "source": [
    "## | dedup"
   ]
  },
  {
   "cell_type": "markdown",
   "metadata": {},
   "source": [
    "removes duplicate events from a table"
   ]
  },
  {
   "cell_type": "markdown",
   "metadata": {},
   "source": [
    "**EXAMPLE**:\n",
    "- | fields JSESSIOJNID price product_name\n",
    "- | table JSESSIOJNID price product_name\n",
    "- | dedup JSESSIOJNID price \n",
    "\n",
    "<br>\n",
    "\n",
    "**Returns**:\n",
    "   - filtered to include only 3 columns (fields)\n",
    "   - turned the results into a table\n",
    "   - removed all duplicate user IDs"
   ]
  },
  {
   "cell_type": "markdown",
   "metadata": {},
   "source": [
    "---"
   ]
  },
  {
   "cell_type": "markdown",
   "metadata": {},
   "source": [
    "## | addtotals"
   ]
  },
  {
   "cell_type": "markdown",
   "metadata": {},
   "source": [
    "by default: computes the sum of all numberic fields for each row and creates a new \"total\" column"
   ]
  },
  {
   "cell_type": "markdown",
   "metadata": {},
   "source": [
    "**EXAMPLE**:\n",
    "- | chart sum(price) over product_name by VendorCountry\n",
    "- | addtotals col=true label=\"Total Sales\" labelfield=\"product_name\" Fieldname=\"Total By Product\"\n",
    "\n",
    "<br>\n",
    "\n",
    "**Returns**:\n",
    "   - new column with total price by product_name (\"Total By Product\")\n",
    "   - new row with total sales by country (\"Total Sales\")"
   ]
  },
  {
   "cell_type": "markdown",
   "metadata": {},
   "source": [
    "---"
   ]
  },
  {
   "cell_type": "markdown",
   "metadata": {},
   "source": [
    "## | fieldformat"
   ]
  },
  {
   "cell_type": "markdown",
   "metadata": {},
   "source": [
    "- format appearance of values without making a change to underlying raw data\n",
    "- creates new values, underlying data in index does **NOT** change"
   ]
  },
  {
   "cell_type": "markdown",
   "metadata": {},
   "source": [
    "**EXAMPLE**:\n",
    "- | fieldformat Total = \"$\" + tostring(Total, \"commas\")"
   ]
  },
  {
   "cell_type": "markdown",
   "metadata": {},
   "source": [
    "**Returns**:\n",
    "   - overwrite existing values in Total field \n",
    "   - turn into currency, using $ and commas"
   ]
  },
  {
   "cell_type": "markdown",
   "metadata": {},
   "source": [
    "<hr style=\"border:2px solid black\"> </hr>"
   ]
  },
  {
   "cell_type": "markdown",
   "metadata": {},
   "source": [
    "# Visualizing Data"
   ]
  },
  {
   "cell_type": "markdown",
   "metadata": {},
   "source": [
    "- any search that returns statistical values can be viewed as a chart\n",
    "- most visualization require results structured as tables with AT LEAST two columns\n",
    "- y axis should always be numeric"
   ]
  },
  {
   "cell_type": "markdown",
   "metadata": {},
   "source": [
    "**EXAMPLE**:\n",
    "| stats count(linecount) as \"Units Sold\" by product_name\n",
    "\n",
    "<br>\n",
    "\n",
    "**Returns**:\n",
    "- total number of units sold per product_name"
   ]
  },
  {
   "cell_type": "markdown",
   "metadata": {},
   "source": [
    "### Steps to visualization:\n",
    "- Step 1: complete a search\n",
    "- Step 2: click \"visualization\" tab (next to statistics tab)\n",
    "- Step 3: click visualization menu (\"line chart\") and select type of visual desired (column graph, pie chart, etc)"
   ]
  },
  {
   "cell_type": "markdown",
   "metadata": {},
   "source": [
    "**Single Series**:\n",
    "- a table with only two columns\n",
    "    - first column- X axis\n",
    "    - second column - y axis"
   ]
  },
  {
   "cell_type": "markdown",
   "metadata": {},
   "source": [
    "<hr style=\"border:2px solid black\"> </hr>"
   ]
  },
  {
   "cell_type": "markdown",
   "metadata": {},
   "source": [
    "# Tranforming Commands\n",
    "needed to transform search results into visualizations"
   ]
  },
  {
   "cell_type": "markdown",
   "metadata": {},
   "source": [
    "- | top\n",
    "- | rare\n",
    "- | stats\n",
    "- | chart\n",
    "- | timechart\n",
    "- | trendline"
   ]
  },
  {
   "cell_type": "markdown",
   "metadata": {},
   "source": [
    "---"
   ]
  },
  {
   "cell_type": "markdown",
   "metadata": {},
   "source": [
    "## | top\n",
    "- gives the most command values of given fields in a results set\n",
    "- automatically returns count and percent columns\n",
    "- limits to top 10 by default\n",
    "    - can use \"limit\" clause to change the default return\n",
    "    - use limit=0 to include ALL (no limit)\n",
    "    \n",
    "<br>\n",
    "\n",
    "**EXAMPLE 1**:\n",
    "- index=sales sourcetype=vendor_sales\n",
    "- | top Vendor\n",
    "<br>\n",
    "\n",
    "**Returns**:\n",
    "- which top 10 vendor had the highest sales for that period\n",
    "\n",
    "<br>\n",
    "\n",
    "**EXAMPLE 2**:\n",
    "- index=sales sourcetype=vendor_sales\n",
    "- | top Vendor limit=20\n",
    "<br>\n",
    "\n",
    "**Returns**:\n",
    "- which top 20 vendor had the highest sales for that period"
   ]
  },
  {
   "cell_type": "markdown",
   "metadata": {},
   "source": [
    "### top command clauses\n",
    "- limit = int\n",
    "    - how many results returned\n",
    "- countfield = string\n",
    "    - change name of count column to a string\n",
    "- percentfield = string\n",
    "    - change name of percent column to a string\n",
    "- showcount = True/False\n",
    "    - show the count column (yes or no)\n",
    "- showperc = True/False\n",
    "    - show the percent column (yes or no)\n",
    "- showother = True/False\n",
    "- otherstr = string\n",
    "    - create row for all \"other\" that do not fall into limit"
   ]
  },
  {
   "cell_type": "markdown",
   "metadata": {},
   "source": [
    "**EXAMPLE 3**:\n",
    "- index=sales sourcetype=vendor_sales\n",
    "- | top Vendor limit=5 showperc=false countfield=\"Number of Sales\" useother=true\n",
    "<br>\n",
    "\n",
    "**Returns**:\n",
    "   - top 5 vendors\n",
    "   - remove percent column\n",
    "   - change count column name to \"number of sales\"\n",
    "   - create new row for all other vendors not listed in top 5"
   ]
  },
  {
   "cell_type": "markdown",
   "metadata": {},
   "source": [
    "## \"by\" clause\n",
    "top results split by another field\n",
    "\n",
    "**EXAMPLE 4**:\n",
    "- index=sales sourcetype=vendor_sales\n",
    "- | top product_name by Vendor limit=3 countfield=\"Number of Sales\" showperc=false\n",
    "\n",
    "<br>\n",
    "\n",
    "**Returns**:\n",
    "   - top 3 product sold by each vendor in last 7 days\n",
    "   - rename count column to \"number of sales\"\n",
    "   - remove percent column"
   ]
  },
  {
   "cell_type": "markdown",
   "metadata": {},
   "source": [
    "---"
   ]
  },
  {
   "cell_type": "markdown",
   "metadata": {},
   "source": [
    "## | rare\n",
    "shows least common values of a field set"
   ]
  },
  {
   "cell_type": "markdown",
   "metadata": {},
   "source": [
    "**EXAMPLE**:\n",
    "- index=sales sourcetype=vendor_sales\n",
    "- | rare Vendor limit=3 countfield=\"Number of Sales\" useother=true\n",
    "\n",
    "<br>\n",
    "\n",
    "**Returns**:\n",
    "   - bottom 3 vendors \n",
    "   - rename count column to \"number of sales\"\n",
    "   - create row for all other vendors not in bottom 3 limit"
   ]
  },
  {
   "cell_type": "markdown",
   "metadata": {},
   "source": [
    "---"
   ]
  },
  {
   "cell_type": "markdown",
   "metadata": {},
   "source": [
    "## | stats\n",
    "- produces statistics from our search results\n",
    "- do not need data to be time based"
   ]
  },
  {
   "cell_type": "markdown",
   "metadata": {},
   "source": [
    "### Common Stats Functions\n",
    "- count\n",
    "- distinct count\n",
    "- sum\n",
    "- average\n",
    "- min\n",
    "- max\n",
    "- list\n",
    "- values"
   ]
  },
  {
   "cell_type": "markdown",
   "metadata": {},
   "source": [
    "#### | stats count(field)\n",
    "add field as an argument"
   ]
  },
  {
   "cell_type": "markdown",
   "metadata": {},
   "source": [
    "---"
   ]
  },
  {
   "cell_type": "markdown",
   "metadata": {},
   "source": [
    "## | chart\n",
    "- takes two clause statements\n",
    "    - over: tells Splunk which fields you want on the x-axis\n",
    "    - by: create columns for each field\n",
    "        - only one value can be specified\n",
    "- any stats function can be applied to the chart command\n",
    "- **remove nulls**: usenull=f\n",
    "- limited to 10 arguments by default\n",
    "- useother default to true (groups all \"others\" together)\n",
    "- x-axis is NOT time"
   ]
  },
  {
   "cell_type": "markdown",
   "metadata": {},
   "source": [
    "**EXAMPLE**:\n",
    "<br>\n",
    "index=web sourcetype=access_combined status>299\n",
    "<br>\n",
    "| chart count over status"
   ]
  },
  {
   "cell_type": "markdown",
   "metadata": {},
   "source": [
    "---"
   ]
  },
  {
   "cell_type": "markdown",
   "metadata": {},
   "source": [
    "## | timechart\n",
    "- performs stats aggreggations against time\n",
    "- time is always x-axis\n",
    "- any stats function can be applied\n",
    "- only one value can be be specified after \"by\" clause\n",
    "- default to cluster in 24 hours groups\n",
    "    - span=12hrs (or desired timeframe) <-- to change default"
   ]
  },
  {
   "cell_type": "markdown",
   "metadata": {},
   "source": [
    "**EXAMPLE 1**:\n",
    "<br>\n",
    "index=sales sourcetype=vendor_sales\n",
    "<br>\n",
    "| timechart count by product_name\n",
    "\n",
    "<br>\n",
    "\n",
    "**Returns**:\n",
    "- vendor sales over time\n",
    "- timelines for each product_name\n",
    "\n",
    "<br>\n",
    "\n",
    "**EXAMPLE 2**:\n",
    "<br>\n",
    "index=sales sourcetype=vendor_sales\n",
    "<br>\n",
    "| timechart span=12h sum(price) by product_name limit=0\n",
    "\n",
    "<br>\n",
    "\n",
    "**Returns**:\n",
    "- vendor sales by product_name over 12 hour time indevals"
   ]
  },
  {
   "cell_type": "markdown",
   "metadata": {},
   "source": [
    "---"
   ]
  },
  {
   "cell_type": "markdown",
   "metadata": {},
   "source": [
    "## | trendline\n",
    "- computes moving averages of field values\n",
    "- trendline command requires 3 arguments   "
   ]
  },
  {
   "cell_type": "markdown",
   "metadata": {},
   "source": [
    "### Trendtype\n",
    "- simple moving average (sma)\n",
    "- exponential moving average (ema)\n",
    "- weighted moving average (wma)"
   ]
  },
  {
   "cell_type": "markdown",
   "metadata": {},
   "source": [
    "**EXAMPLE 1**:\n",
    "<br>\n",
    "index=web sourcetype=access_combined action=purchase status=200\n",
    "<br>\n",
    "| timechart sum(price) as sales\n",
    "| trendline wma2(sales) as trend\n",
    "\n",
    "<br>\n",
    "\n",
    "**Returns**:\n",
    "- sum of all sales with alias \"sales\"\n",
    "- weighted moving average (2 days) with alias \"trend\""
   ]
  },
  {
   "cell_type": "markdown",
   "metadata": {},
   "source": [
    "<hr style=\"border:2px solid black\"> </hr>"
   ]
  },
  {
   "cell_type": "markdown",
   "metadata": {},
   "source": [
    "# Generating Maps"
   ]
  },
  {
   "cell_type": "markdown",
   "metadata": {},
   "source": [
    "- **Marker maps**: plot geographic coordinates as interactive markers on a map\n",
    "- **Choropleth maps**: use shading to show relative metrics"
   ]
  },
  {
   "cell_type": "markdown",
   "metadata": {},
   "source": [
    "---"
   ]
  },
  {
   "cell_type": "markdown",
   "metadata": {},
   "source": [
    "# Marker Maps"
   ]
  },
  {
   "cell_type": "markdown",
   "metadata": {},
   "source": [
    "## | iplocation\n",
    "- used to look up and add location info from a 3rd party database to an event\n",
    "- data includes:\n",
    "    - city\n",
    "    - country\n",
    "    - region\n",
    "    - latitude\n",
    "    - longitude"
   ]
  },
  {
   "cell_type": "markdown",
   "metadata": {},
   "source": [
    "**EMAMPLE 1**:\n",
    "<br>\n",
    "index=security sourcetype=linux_secure action=succress src_ip!=10.*\n",
    "\n",
    "<br>\n",
    "\n",
    "**Return**:\n",
    "- IPs outside the internal servers that successfully accessed the system"
   ]
  },
  {
   "cell_type": "markdown",
   "metadata": {},
   "source": [
    "**EMAMPLE 2**:\n",
    "<br>\n",
    "index=security sourcetype=linux_secure action=succress src_ip!=10.*\n",
    "<br>\n",
    "| iplocation src_ip\n",
    "\n",
    "<br>\n",
    "\n",
    "**Return**:\n",
    "- IPs outside the internal servers that successfully accessed the system\n",
    "- new columns created (city, country) from where the IPs are located\n",
    "\n",
    "<br>\n",
    "\n",
    "**some locations cannot be found in 3rd party database**"
   ]
  },
  {
   "cell_type": "markdown",
   "metadata": {},
   "source": [
    "---"
   ]
  },
  {
   "cell_type": "markdown",
   "metadata": {},
   "source": [
    "## | geostats\n",
    "- aggregates data for use on a map\n",
    "- uses same functions as stats command\n",
    "- can split data using \"by\" argument\n",
    "    - only accepts one \"by\" argument"
   ]
  },
  {
   "cell_type": "markdown",
   "metadata": {},
   "source": [
    "**EXAMPLE 1**:\n",
    "<br>\n",
    "index=sales sourecetype=vendor_sales\n",
    "<br>\n",
    "| geostats latfield=VendorLatitude longfield=VendorLongitude count\n",
    "\n",
    "<br>\n",
    "\n",
    "**Returns**:\n",
    "- data on a visual map with counts on each location\n",
    "    - larger circles are more count at that location\n",
    "    - smaller circles are less count at that location"
   ]
  },
  {
   "cell_type": "markdown",
   "metadata": {},
   "source": [
    "**EXAMPLE 2**:\n",
    "<br>\n",
    "index=sales sourecetype=vendor_sales\n",
    "<br>\n",
    "| geostats latfield=VendorLatitude longfield=VendorLongitude count by product_name\n",
    "\n",
    "<br>\n",
    "\n",
    "**Returns**:\n",
    "- split on product_name\n",
    "- data on a visual map with counts on each location for EACH product"
   ]
  },
  {
   "cell_type": "markdown",
   "metadata": {},
   "source": [
    "**EXAMPLE 3**:\n",
    "<br>\n",
    "index=sales sourecetype=vendor_sales\n",
    "<br>\n",
    "| iplocation scr_ip\n",
    "<br>\n",
    "| geostats latfield=lat longfield=lon count\n",
    "\n",
    "<br>\n",
    "\n",
    "**Returns**:\n",
    "- IP addresses on a visual map"
   ]
  },
  {
   "cell_type": "markdown",
   "metadata": {},
   "source": [
    "<hr style=\"border:1px solid black\"> </hr>"
   ]
  },
  {
   "cell_type": "markdown",
   "metadata": {},
   "source": [
    "# Choropleth Maps\n",
    "- another geographical way to show your data\n",
    "- uses shadding to show relative metrics over a predefined location of a map\n",
    "- need a compressed keyhole markup language file (KMZ) to use (.kmz)\n",
    "    - defines region boundaries\n",
    "    - Splunk has 2 .kmz files installed\n",
    "        - geo_us_states.kmz\n",
    "        - geo_countries.kmz"
   ]
  },
  {
   "cell_type": "markdown",
   "metadata": {},
   "source": [
    "## | geom\n",
    "- prepares us to use choropleth maps\n",
    "- adds a field to the events that includes geographical data structures"
   ]
  },
  {
   "cell_type": "markdown",
   "metadata": {},
   "source": [
    "**EXAMPLE**:\n",
    "<br>\n",
    "index=sales sourcetype=vendor_sales VendorID>=5000 AND VendorID<=5055\n",
    "<br>\n",
    "| stats count as Sales by VendorCountry\n",
    "<br>\n",
    "| geom geo_countries featureIdField=VendorCountry\n",
    "\n",
    "<br>\n",
    "\n",
    "**Returns**:\n",
    "- sales for vendors in Europe over last 7 days\n",
    "- use geom command followed by .kmz file for countries\n",
    "- go to visualization tab and pick map feature"
   ]
  },
  {
   "cell_type": "markdown",
   "metadata": {},
   "source": [
    "<hr style=\"border:2px solid black\"> </hr>"
   ]
  },
  {
   "cell_type": "markdown",
   "metadata": {},
   "source": [
    "# Single Value Visualization"
   ]
  },
  {
   "cell_type": "markdown",
   "metadata": {},
   "source": [
    "**Types of visualization**:\n",
    "- single value\n",
    "- gauges\n",
    "    - radial\n",
    "    - filler\n",
    "    - marker\n",
    "\n",
    "<br>\n",
    "\n",
    "**Format dropdown allows you to change colors, text, units, etc**"
   ]
  },
  {
   "cell_type": "markdown",
   "metadata": {},
   "source": [
    "<hr style=\"border:2px solid black\"> </hr>"
   ]
  },
  {
   "cell_type": "markdown",
   "metadata": {},
   "source": []
  },
  {
   "cell_type": "markdown",
   "metadata": {},
   "source": []
  },
  {
   "cell_type": "markdown",
   "metadata": {},
   "source": []
  },
  {
   "cell_type": "markdown",
   "metadata": {},
   "source": []
  },
  {
   "cell_type": "markdown",
   "metadata": {},
   "source": []
  }
 ],
 "metadata": {
  "kernelspec": {
   "display_name": "Python 3",
   "language": "python",
   "name": "python3"
  },
  "language_info": {
   "codemirror_mode": {
    "name": "ipython",
    "version": 3
   },
   "file_extension": ".py",
   "mimetype": "text/x-python",
   "name": "python",
   "nbconvert_exporter": "python",
   "pygments_lexer": "ipython3",
   "version": "3.8.5"
  }
 },
 "nbformat": 4,
 "nbformat_minor": 4
}
