{
 "cells": [
  {
   "cell_type": "markdown",
   "metadata": {},
   "source": [
    "# Visualizations"
   ]
  },
  {
   "cell_type": "markdown",
   "metadata": {},
   "source": [
    "---"
   ]
  },
  {
   "cell_type": "markdown",
   "metadata": {},
   "source": [
    "# Formatting Command"
   ]
  },
  {
   "cell_type": "markdown",
   "metadata": {},
   "source": [
    "## | fields \n",
    "   - allows you to include or exclude specific fields from search results\n",
    "   - **useful**:\n",
    "       - makes a search faster and more efficient \n",
    "       - limits the number of fields displayed\n",
    "    \n",
    "<br>\n",
    "\n",
    "**EXAMPLE**:\n",
    "<br>\n",
    "| fields product_name price\n",
    "<br>\n",
    "^ field command, ^ desired fields to include\n",
    "\n",
    "<br>\n",
    "\n",
    "### Excluding field\n",
    "use minus sign (-) between fields command and field names\n",
    "<br>\n",
    "\n",
    "**EXAMPLE**:\n",
    "<br>\n",
    "| fields - product_name price\n",
    "<br>\n",
    "**returns**: all fields EXCEPT product_name and price\n",
    "\n",
    "<br>\n",
    "\n",
    "**MUST** have a space after the minus sign or that command will not work\n",
    "<br>\n",
    "\n",
    "**EXAMPLE**:\n",
    "<br>\n",
    "| fields -product_name price\n",
    "<br>\n",
    "**returns**: ONLY returns price field\n",
    "\n",
    "<br>\n",
    "\n",
    "**| fields command defaults to inclusion**"
   ]
  },
  {
   "cell_type": "markdown",
   "metadata": {},
   "source": [
    "---"
   ]
  },
  {
   "cell_type": "markdown",
   "metadata": {},
   "source": [
    "## | table"
   ]
  },
  {
   "cell_type": "markdown",
   "metadata": {},
   "source": [
    "- similar to fields command\n",
    "- specified fields are included or excluded\n",
    "- table command is a **transforming** command\n",
    "- retains the data in a tabulated format\n",
    "\n",
    "<br>\n",
    "\n",
    "- Column Headers = field names\n",
    "- Rows = values\n",
    "- Each row = one event\n",
    "\n",
    "<br>\n",
    "\n",
    "- **Rearrange columns**: return to search and change order of fields inputted"
   ]
  },
  {
   "cell_type": "markdown",
   "metadata": {},
   "source": [
    "**EXAMPLE**:\n",
    "- | table         JSESSIONID   product_name price\n",
    "- ^table command, ^session id, ^desired fields\n",
    "- **returns**: the products that the specific user purchased and for what price"
   ]
  },
  {
   "cell_type": "markdown",
   "metadata": {},
   "source": [
    "---"
   ]
  },
  {
   "cell_type": "markdown",
   "metadata": {},
   "source": [
    "## | dedup"
   ]
  },
  {
   "cell_type": "markdown",
   "metadata": {},
   "source": [
    "removes duplicate events from a table"
   ]
  },
  {
   "cell_type": "markdown",
   "metadata": {},
   "source": [
    "**EXAMPLE**:\n",
    "- | fields JSESSIOJNID price product_name\n",
    "- | table JSESSIOJNID price product_name\n",
    "- | dedup JSESSIOJNID price \n",
    "\n",
    "<br>\n",
    "\n",
    "**Returns**:\n",
    "   - filtered to include only 3 columns (fields)\n",
    "   - turned the results into a table\n",
    "   - removed all duplicate user IDs"
   ]
  },
  {
   "cell_type": "markdown",
   "metadata": {},
   "source": [
    "---"
   ]
  },
  {
   "cell_type": "markdown",
   "metadata": {},
   "source": [
    "## | addtotals"
   ]
  },
  {
   "cell_type": "markdown",
   "metadata": {},
   "source": [
    "by default: computes the sum of all numberic fields for each row and creates a new \"total\" column"
   ]
  },
  {
   "cell_type": "markdown",
   "metadata": {},
   "source": [
    "**EXAMPLE**:\n",
    "- | chart sum(price) over product_name by VendorCountry\n",
    "- | addtotals col=true label=\"Total Sales\" labelfield=\"product_name\" Fieldname=\"Total By Product\"\n",
    "\n",
    "<br>\n",
    "\n",
    "**Returns**:\n",
    "   - new column with total price by product_name (\"Total By Product\")\n",
    "   - new row with total sales by country (\"Total Sales\")"
   ]
  },
  {
   "cell_type": "markdown",
   "metadata": {},
   "source": [
    "---"
   ]
  },
  {
   "cell_type": "markdown",
   "metadata": {},
   "source": [
    "## | fieldformat"
   ]
  },
  {
   "cell_type": "markdown",
   "metadata": {},
   "source": [
    "- format appearance of values without making a change to underlying raw data\n",
    "- creates new values, underlying data in index does **NOT** change"
   ]
  },
  {
   "cell_type": "markdown",
   "metadata": {},
   "source": [
    "**EXAMPLE**:\n",
    "- | fieldformat Total = \"$\" + tostring(Total, \"commas\")"
   ]
  },
  {
   "cell_type": "markdown",
   "metadata": {},
   "source": [
    "**Returns**:\n",
    "   - overwrite existing values in Total field \n",
    "   - turn into currency, using $ and commas"
   ]
  },
  {
   "cell_type": "markdown",
   "metadata": {},
   "source": []
  },
  {
   "cell_type": "markdown",
   "metadata": {},
   "source": []
  },
  {
   "cell_type": "markdown",
   "metadata": {},
   "source": []
  },
  {
   "cell_type": "markdown",
   "metadata": {},
   "source": []
  },
  {
   "cell_type": "markdown",
   "metadata": {},
   "source": []
  }
 ],
 "metadata": {
  "kernelspec": {
   "display_name": "Python 3",
   "language": "python",
   "name": "python3"
  },
  "language_info": {
   "codemirror_mode": {
    "name": "ipython",
    "version": 3
   },
   "file_extension": ".py",
   "mimetype": "text/x-python",
   "name": "python",
   "nbconvert_exporter": "python",
   "pygments_lexer": "ipython3",
   "version": "3.8.5"
  }
 },
 "nbformat": 4,
 "nbformat_minor": 4
}
