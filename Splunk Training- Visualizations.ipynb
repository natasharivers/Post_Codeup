{
 "cells": [
  {
   "cell_type": "markdown",
   "metadata": {},
   "source": [
    "# Visualizations"
   ]
  },
  {
   "cell_type": "markdown",
   "metadata": {},
   "source": [
    "<hr style=\"border:3px solid black\"> </hr>"
   ]
  },
  {
   "cell_type": "markdown",
   "metadata": {},
   "source": [
    "# Formatting Command"
   ]
  },
  {
   "cell_type": "markdown",
   "metadata": {},
   "source": [
    "<hr style=\"border:1px solid black\"> </hr>"
   ]
  },
  {
   "cell_type": "markdown",
   "metadata": {},
   "source": [
    "## | fields \n",
    "   - allows you to include or exclude specific fields from search results\n",
    "   - **useful**:\n",
    "       - makes a search faster and more efficient \n",
    "       - limits the number of fields displayed\n",
    "    \n",
    "<br>\n",
    "\n",
    "**EXAMPLE**:\n",
    "<br>\n",
    "| fields product_name price\n",
    "<br>\n",
    "^ field command, ^ desired fields to include\n",
    "\n",
    "<br>\n",
    "\n",
    "### Excluding field\n",
    "use minus sign (-) between fields command and field names\n",
    "<br>\n",
    "\n",
    "**EXAMPLE**:\n",
    "<br>\n",
    "| fields - product_name price\n",
    "<br>\n",
    "**returns**: all fields EXCEPT product_name and price\n",
    "\n",
    "<br>\n",
    "\n",
    "**MUST** have a space after the minus sign or that command will not work\n",
    "<br>\n",
    "\n",
    "**EXAMPLE**:\n",
    "<br>\n",
    "| fields -product_name price\n",
    "<br>\n",
    "**returns**: ONLY returns price field\n",
    "\n",
    "<br>\n",
    "\n",
    "**| fields command defaults to inclusion**"
   ]
  },
  {
   "cell_type": "markdown",
   "metadata": {},
   "source": [
    "---"
   ]
  },
  {
   "cell_type": "markdown",
   "metadata": {},
   "source": [
    "## | table"
   ]
  },
  {
   "cell_type": "markdown",
   "metadata": {},
   "source": [
    "- similar to fields command\n",
    "- specified fields are included or excluded\n",
    "- table command is a **transforming** command\n",
    "- retains the data in a tabulated format\n",
    "\n",
    "<br>\n",
    "\n",
    "- Column Headers = field names\n",
    "- Rows = values\n",
    "- Each row = one event\n",
    "\n",
    "<br>\n",
    "\n",
    "- **Rearrange columns**: return to search and change order of fields inputted"
   ]
  },
  {
   "cell_type": "markdown",
   "metadata": {},
   "source": [
    "**EXAMPLE**:\n",
    "- | table         JSESSIONID   product_name price\n",
    "- ^table command, ^session id, ^desired fields\n",
    "- **returns**: the products that the specific user purchased and for what price"
   ]
  },
  {
   "cell_type": "markdown",
   "metadata": {},
   "source": [
    "---"
   ]
  },
  {
   "cell_type": "markdown",
   "metadata": {},
   "source": [
    "## | dedup"
   ]
  },
  {
   "cell_type": "markdown",
   "metadata": {},
   "source": [
    "removes duplicate events from a table"
   ]
  },
  {
   "cell_type": "markdown",
   "metadata": {},
   "source": [
    "**EXAMPLE**:\n",
    "- | fields JSESSIOJNID price product_name\n",
    "- | table JSESSIOJNID price product_name\n",
    "- | dedup JSESSIOJNID price \n",
    "\n",
    "<br>\n",
    "\n",
    "**Returns**:\n",
    "   - filtered to include only 3 columns (fields)\n",
    "   - turned the results into a table\n",
    "   - removed all duplicate user IDs"
   ]
  },
  {
   "cell_type": "markdown",
   "metadata": {},
   "source": [
    "---"
   ]
  },
  {
   "cell_type": "markdown",
   "metadata": {},
   "source": [
    "## | addtotals"
   ]
  },
  {
   "cell_type": "markdown",
   "metadata": {},
   "source": [
    "by default: computes the sum of all numberic fields for each row and creates a new \"total\" column"
   ]
  },
  {
   "cell_type": "markdown",
   "metadata": {},
   "source": [
    "**EXAMPLE**:\n",
    "- | chart sum(price) over product_name by VendorCountry\n",
    "- | addtotals col=true label=\"Total Sales\" labelfield=\"product_name\" Fieldname=\"Total By Product\"\n",
    "\n",
    "<br>\n",
    "\n",
    "**Returns**:\n",
    "   - new column with total price by product_name (\"Total By Product\")\n",
    "   - new row with total sales by country (\"Total Sales\")"
   ]
  },
  {
   "cell_type": "markdown",
   "metadata": {},
   "source": [
    "---"
   ]
  },
  {
   "cell_type": "markdown",
   "metadata": {},
   "source": [
    "## | fieldformat"
   ]
  },
  {
   "cell_type": "markdown",
   "metadata": {},
   "source": [
    "- format appearance of values without making a change to underlying raw data\n",
    "- creates new values, underlying data in index does **NOT** change"
   ]
  },
  {
   "cell_type": "markdown",
   "metadata": {},
   "source": [
    "**EXAMPLE**:\n",
    "- | fieldformat Total = \"$\" + tostring(Total, \"commas\")"
   ]
  },
  {
   "cell_type": "markdown",
   "metadata": {},
   "source": [
    "**Returns**:\n",
    "   - overwrite existing values in Total field \n",
    "   - turn into currency, using $ and commas"
   ]
  },
  {
   "cell_type": "markdown",
   "metadata": {},
   "source": [
    "<hr style=\"border:2px solid black\"> </hr>"
   ]
  },
  {
   "cell_type": "markdown",
   "metadata": {},
   "source": [
    "# Visualizing Data"
   ]
  },
  {
   "cell_type": "markdown",
   "metadata": {},
   "source": [
    "- any search that returns statistical values can be viewed as a chart\n",
    "- most visualization require results structured as tables with AT LEAST two columns"
   ]
  },
  {
   "cell_type": "markdown",
   "metadata": {},
   "source": [
    "**EXAMPLE**:\n",
    "| stats count(linecount) as \"Units Sold\" by product_name\n",
    "\n",
    "<br>\n",
    "\n",
    "**Returns**:\n",
    "- total number of units sold per product_name"
   ]
  },
  {
   "cell_type": "markdown",
   "metadata": {},
   "source": [
    "### Steps to visualization:\n",
    "- Step 1: complete a search\n",
    "- Step 2: click \"visualization\" tab (next to statistics tab)\n",
    "- Step 3: click visualization menu (\"line chart\") and select type of visual desired (column graph, pie chart, etc)"
   ]
  },
  {
   "cell_type": "markdown",
   "metadata": {},
   "source": [
    "**Single Series**:\n",
    "- a table with only two columns\n",
    "    - first column- X axis\n",
    "    - second column - y axis"
   ]
  },
  {
   "cell_type": "markdown",
   "metadata": {},
   "source": [
    "<hr style=\"border:2px solid black\"> </hr>"
   ]
  },
  {
   "cell_type": "markdown",
   "metadata": {},
   "source": [
    "# Tranforming Commands\n",
    "needed to transform search results into visualizations"
   ]
  },
  {
   "cell_type": "markdown",
   "metadata": {},
   "source": [
    "- | top\n",
    "- | rare\n",
    "- | stats\n",
    "- | chart\n",
    "- | timechart\n",
    "- | trendline"
   ]
  },
  {
   "cell_type": "markdown",
   "metadata": {},
   "source": [
    "---"
   ]
  },
  {
   "cell_type": "markdown",
   "metadata": {},
   "source": [
    "## | top\n",
    "- gives the most command values of given fields in a results set\n",
    "- automatically returns count and percent columns\n",
    "- limits to top 10 by default\n",
    "    - can use \"limit\" clause to change the default return\n",
    "    - use limit=0 to include ALL (no limit)\n",
    "    \n",
    "<br>\n",
    "\n",
    "**EXAMPLE**:\n",
    "- index=sales sourcetype=vendor_sales\n",
    "- | top Vendor\n",
    "<br>\n",
    "\n",
    "**Returns**:\n",
    "- which top 10 vendor had the highest sales for that period\n",
    "\n",
    "<br>\n",
    "\n",
    "**EXAMPLE**:\n",
    "- index=sales sourcetype=vendor_sales\n",
    "- | top Vendor limit=20\n",
    "<br>\n",
    "\n",
    "**Returns**:\n",
    "- which top 20 vendor had the highest sales for that period"
   ]
  },
  {
   "cell_type": "markdown",
   "metadata": {},
   "source": [
    "### top command clauses\n",
    "- limit = int\n",
    "    - how many results returned\n",
    "- countfield = string\n",
    "    - change name of count column to a string\n",
    "- percentfield = string\n",
    "    - change name of percent column to a string\n",
    "- showcount = True/False\n",
    "    - show the count column (yes or no)\n",
    "- showperc = True/False\n",
    "    - show the percent column (yes or no)\n",
    "- showother = True/False\n",
    "- otherstr = string\n",
    "    - create row for all \"other\" that do not fall into limit"
   ]
  },
  {
   "cell_type": "markdown",
   "metadata": {},
   "source": [
    "**EXAMPLE**:\n",
    "- index=sales sourcetype=vendor_sales\n",
    "- | top Vendor limit=5 showperc=false countfield=\"Number of Sales\" useother=true\n",
    "<br>\n",
    "\n",
    "**Returns**:\n",
    "   - top 5 vendors\n",
    "   - remove percent column\n",
    "   - change count column name to \"number of sales\"\n",
    "   - create new row for all other vendors not listed in top 5"
   ]
  },
  {
   "cell_type": "markdown",
   "metadata": {},
   "source": [
    "## \"by\" clause\n",
    "top results split by another field\n",
    "\n",
    "**EXAMPLE**:\n",
    "- index=sales sourcetype=vendor_sales\n",
    "- | top product_name by Vendor limit=3 countfield=\"Number of Sales\" showperc=false\n",
    "\n",
    "<br>\n",
    "\n",
    "**Returns**:\n",
    "   - top 3 product sold by each vendor in last 7 days\n",
    "   - rename count column to \"number of sales\"\n",
    "   - remove percent column"
   ]
  },
  {
   "cell_type": "markdown",
   "metadata": {},
   "source": [
    "---"
   ]
  },
  {
   "cell_type": "markdown",
   "metadata": {},
   "source": [
    "## | rare\n",
    "shows least common values of a field set"
   ]
  },
  {
   "cell_type": "markdown",
   "metadata": {},
   "source": [
    "**EXAMPLE**:\n",
    "- index=sales sourcetype=vendor_sales\n",
    "- | rare Vendor limit=3 countfield=\"Number of Sales\" useother=true\n",
    "\n",
    "<br>\n",
    "\n",
    "**Returns**:\n",
    "   - bottom 3 vendors \n",
    "   - rename count column to \"number of sales\"\n",
    "   - create row for all other vendors not in bottom 3 limit"
   ]
  },
  {
   "cell_type": "markdown",
   "metadata": {},
   "source": [
    "---"
   ]
  },
  {
   "cell_type": "markdown",
   "metadata": {},
   "source": [
    "## | stats\n",
    "produces statistics from our search results"
   ]
  },
  {
   "cell_type": "markdown",
   "metadata": {},
   "source": [
    "---"
   ]
  },
  {
   "cell_type": "markdown",
   "metadata": {},
   "source": [
    "## | chart\n",
    "gives the most command values of given fields in a results set"
   ]
  },
  {
   "cell_type": "markdown",
   "metadata": {},
   "source": [
    "---"
   ]
  },
  {
   "cell_type": "markdown",
   "metadata": {},
   "source": [
    "## | timechart\n",
    "gives the most command values of given fields in a results set"
   ]
  },
  {
   "cell_type": "markdown",
   "metadata": {},
   "source": [
    "---"
   ]
  },
  {
   "cell_type": "markdown",
   "metadata": {},
   "source": [
    "## | trendline\n",
    "gives the most command values of given fields in a results set"
   ]
  }
 ],
 "metadata": {
  "kernelspec": {
   "display_name": "Python 3",
   "language": "python",
   "name": "python3"
  },
  "language_info": {
   "codemirror_mode": {
    "name": "ipython",
    "version": 3
   },
   "file_extension": ".py",
   "mimetype": "text/x-python",
   "name": "python",
   "nbconvert_exporter": "python",
   "pygments_lexer": "ipython3",
   "version": "3.8.5"
  }
 },
 "nbformat": 4,
 "nbformat_minor": 4
}
