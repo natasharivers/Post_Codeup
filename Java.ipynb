{
 "cells": [
  {
   "cell_type": "markdown",
   "metadata": {},
   "source": [
    "# Intro to Java"
   ]
  },
  {
   "cell_type": "markdown",
   "metadata": {},
   "source": [
    "<hr style=\"border:2px solid black\"> </hr>"
   ]
  },
  {
   "cell_type": "markdown",
   "metadata": {},
   "source": [
    "## Computer Programs\n",
    "**computer program**: set of instructions run on a digital device\n",
    "   - *machine code*: computers speak in 1s and 0s (binary)\n",
    "   - *high-level code*: readable to humans using compilers"
   ]
  },
  {
   "cell_type": "markdown",
   "metadata": {},
   "source": [
    "**Compiler**: High-Level code is translated into machine code using a **compiler**\n",
    "   - Each platform has its own compiler\n",
    "   - combines code with additional files to make machine code using **project libraries**\n",
    "\n",
    "    <br>\n",
    "\n",
    "**Platforms**:\n",
    "   - Linux/ Unix\n",
    "   - Solaris\n",
    "   - Windows\n",
    "   \n",
    "   <br>\n",
    "   \n",
    "**Platform Independent**:\n",
    "   - Java is **platform independent** so it does **not** need to be compiled three times for different platforms!\n",
    "   - Must have Java Virtual Machine (JVM) to have Java run independently"
   ]
  },
  {
   "cell_type": "markdown",
   "metadata": {},
   "source": [
    "---"
   ]
  },
  {
   "cell_type": "markdown",
   "metadata": {},
   "source": [
    "## Java"
   ]
  },
  {
   "cell_type": "markdown",
   "metadata": {},
   "source": [
    "- Most widely used developement language in use\n",
    "- comments identified by //\n",
    "\n",
    "### Vocab:\n",
    "\n",
    "- Java Runtime Environment **(JRE)**: used by end users to run applications\n",
    "- Java Developement Kit **(JDK)**: used by developers for software developement\n",
    "- Java Technologies:\n",
    "    - Servers\n",
    "    - Desktop\n",
    "    - Embedded\n",
    "    - TV\n",
    "    - Mobile\n",
    "    - Card\n",
    "\n",
    "- Java Virtual Machine **(JVM)**: Java Bytecode interpreter\n",
    "<br>\n",
    "\n",
    "- **Applets**: launched inside a web browser\n",
    "- **Applications**: launched within an operatoring system as a standalone program\n",
    "<br>\n",
    "\n",
    "- **Java SE**: used to develop applets and applications that run in web browsers on desktop computers\n",
    "- **Java EE**: used to create large enterprise, service-side and client-side applications\n",
    "- **Java ME**: used to create applications for consumer devices\n",
    "- **Java Card**: typically used to secure sensative information (identify, SIMS, etc)"
   ]
  },
  {
   "cell_type": "markdown",
   "metadata": {},
   "source": [
    "### Product Life Cycle (PLC) Stages:\n",
    "1. Analysis\n",
    "2. Design\n",
    "3. Development\n",
    "4. Testing\n",
    "5. Implementation\n",
    "6. Maintenance\n",
    "7. End-of-Life (EOL)\n",
    "\n",
    "<br>\n",
    "\n",
    "#### 1. Analysis\n",
    "   - process of investigating the problem you want to solve with a software product\n",
    "   - find the **scope** of your project\n",
    "   - determine the market niche you want to fill and product you want to create\n",
    "   - good analysis stage means less time in developement and testing\n",
    "    \n",
    "#### 2. Design\n",
    "   - process of applying finding you made during analysis to actual design of the product\n",
    "   - primary task: develop blueprints or specs for products in your system\n",
    "    \n",
    "#### 3. Development\n",
    "   - use blueprints created in the design stage to create actual components\n",
    "    \n",
    "#### 4. Testing\n",
    "   - test to ensure that the individual components and product as a whole perform as desired\n",
    "   - done by a team of testers who were **not** involved in the developement of the product\n",
    "       - make sure it is tested objectively and without bias\n",
    "    \n",
    "#### 5. Implementation\n",
    "   - deliver the software product\n",
    "   - make it available to the customer\n",
    "    \n",
    "#### 6.  Maintenance\n",
    "   - end users are the best testers- often catch more issues then testing\n",
    "   - fixing bugs/ problems\n",
    "   - create new versions (2.0) \n",
    "    \n",
    "#### 7. End-of-Line (EOL)\n",
    "   - carrying out all neccessary tasks to make sure all customers and employees know that the product is no longer available and will no longer be supported\n",
    "   - new product will likely be made available"
   ]
  },
  {
   "cell_type": "markdown",
   "metadata": {},
   "source": [
    "---"
   ]
  },
  {
   "cell_type": "markdown",
   "metadata": {},
   "source": [
    "## Key Features of Java Language"
   ]
  },
  {
   "cell_type": "markdown",
   "metadata": {},
   "source": [
    "- **platform independent**: can develop on one platform and use on others\n",
    "- **object-oriented Programing** (OOP): allows you to create and manage data object that can be referenced in powerful ways\n",
    "    - no specific sequence\n",
    "    - interaction of objects\n",
    "    - Benefits:\n",
    "        - modular (source code independent)\n",
    "        - information hiding (not all code is shared)\n",
    "        - code reusable\n",
    "        - maintainability"
   ]
  },
  {
   "cell_type": "markdown",
   "metadata": {},
   "source": [
    "Java Code --> Java Compilier --> Java Bytecode"
   ]
  },
  {
   "cell_type": "markdown",
   "metadata": {},
   "source": [
    "---"
   ]
  },
  {
   "cell_type": "markdown",
   "metadata": {},
   "source": [
    "### Compiling and Running a Java Program\n",
    "#### .java --> javac --> .class --> java\n",
    "\n",
    "- **Step 1**: java code created\n",
    "    - the source code is contained here\n",
    "- **Step 2**: uses javac execuatable to combile source code\n",
    "    - the source code is compiled by javac\n",
    "- **Step 3**: .class\n",
    "    - the result is a .class file (bytecode)\n",
    "- **Step 4**: java program\n",
    "    - the class file is excuted by the java runtime\n",
    "    \n",
    "<br>\n",
    "\n",
    "### Compiling a Program\n",
    "1. go to the directory\n",
    "2. enter command: \".java\" for the file you want to compile\n",
    "**Syntax**: javac sayHello.java\n",
    "**Output**: sayHello.class\n",
    "\n",
    "### Execute:\n",
    "**Syntax**: java Say Hello\n",
    "**Output**: Hello World!"
   ]
  },
  {
   "cell_type": "markdown",
   "metadata": {},
   "source": [
    "---"
   ]
  },
  {
   "cell_type": "markdown",
   "metadata": {},
   "source": [
    "## Java Classes and Packages"
   ]
  },
  {
   "cell_type": "markdown",
   "metadata": {},
   "source": [
    "- **Class**: building block of an application\n",
    "    - class begins with a capital letter because you cannot uses spaces\n",
    "        - ex: HelloWorld\n",
    "    - body of the class is surrounded by {}\n",
    "- **Packages**: provide a name space for classes\n",
    "    - always begin with lowercase letter\n",
    "    - semi-colon used at end of statement"
   ]
  },
  {
   "cell_type": "markdown",
   "metadata": {},
   "source": [
    "### Creating a Java Class\n",
    "public class Hello {\n",
    "    \n",
    "\n",
    "}"
   ]
  },
  {
   "cell_type": "markdown",
   "metadata": {},
   "source": [
    "---"
   ]
  },
  {
   "cell_type": "markdown",
   "metadata": {},
   "source": [
    "### Main Method\n",
    "- **method**: group of instructions to that are intended to perform a function\n",
    "    - (ex): user enters a bunch of numbers, you create a **method** to calculate the numbers\n",
    "\n",
    "<br>\n",
    "\n",
    "- every program created **must** have a public method\n",
    "    - is made available to the entire program\n",
    "    - can create other methods that are not public afterways"
   ]
  },
  {
   "cell_type": "markdown",
   "metadata": {},
   "source": [
    "public class Hello { #<--class (hello)\n",
    "    \n",
    "    public static void main (String[] args) {\n",
    "        // Entry point to the program. ##<--comment\n",
    "        // Write code here: ##<--comment\n",
    "        System.out.println ('Hello World!');##<--program output (hello world)\n",
    "    }\n",
    "}\n",
    "\n",
    "**\"public static ---> (Hello World!);}\" this is the MAIN METHOD**"
   ]
  },
  {
   "cell_type": "markdown",
   "metadata": {},
   "source": [
    "---"
   ]
  },
  {
   "cell_type": "markdown",
   "metadata": {},
   "source": [
    "### Sytnax:\n",
    "- system.out.println(any string value)   \n",
    "    - this is a print command\n",
    "\n",
    "<br>\n",
    "\n",
    "**Common Errors**:\n",
    "- missing semicolon at end of statements\n",
    "- missing closed quotations\n",
    "- unmatched braces\n",
    "- unrecognized words (case sensative)\n"
   ]
  },
  {
   "cell_type": "code",
   "execution_count": null,
   "metadata": {},
   "outputs": [],
   "source": []
  }
 ],
 "metadata": {
  "kernelspec": {
   "display_name": "Python 3",
   "language": "python",
   "name": "python3"
  },
  "language_info": {
   "codemirror_mode": {
    "name": "ipython",
    "version": 3
   },
   "file_extension": ".py",
   "mimetype": "text/x-python",
   "name": "python",
   "nbconvert_exporter": "python",
   "pygments_lexer": "ipython3",
   "version": "3.8.5"
  }
 },
 "nbformat": 4,
 "nbformat_minor": 4
}
