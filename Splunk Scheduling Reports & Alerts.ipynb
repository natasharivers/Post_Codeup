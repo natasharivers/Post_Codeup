{
 "cells": [
  {
   "cell_type": "markdown",
   "metadata": {},
   "source": [
    "# Scheduling Reports & Alerts"
   ]
  },
  {
   "cell_type": "markdown",
   "metadata": {},
   "source": [
    "---"
   ]
  },
  {
   "cell_type": "markdown",
   "metadata": {},
   "source": [
    "## Scheduled Reports\n",
    "- reports that run on a scheduled interval\n",
    "- can be sent by email or trigger additional actions"
   ]
  },
  {
   "cell_type": "markdown",
   "metadata": {},
   "source": [
    "### Creating a scheduled report\n",
    "- **Step 1**: start with search you want report to be based on\n",
    "- **Step 2**: save as menu--> select report\n",
    "    - title\n",
    "    - description\n",
    "    - content\n",
    "    - time range picker\n",
    "        - if report is scheduled, no need to include picker\n",
    "- **Step 3**: click \"save\"\n",
    "- **Step 4**: \"schedule\" from addition settings\n",
    "- **Step 5**: Edit Schedule\n",
    "    - check box \"schedule report\"\n",
    "    - schedule (ex: every monday at 6pm)\n",
    "    - time range (ex: last 7 days)\n",
    "    - schedule priority (default, higher, highest)\n",
    "    - schedule window (5mins, 15mins, 30mins, 1hr, 2hrs)\n",
    "        - must be okay with delay\n",
    "        - if system has too much running, the report will be delayed WITHIN the schedule window if one is provided"
   ]
  },
  {
   "cell_type": "markdown",
   "metadata": {},
   "source": [
    "### Actions to trigger\n",
    "- Log Event\n",
    "- Output results to lookup\n",
    "- Output results to telemetry endpoint\n",
    "- Run a script\n",
    "- Send email\n",
    "- Post to external URL\n",
    "- Custom alert actions"
   ]
  },
  {
   "cell_type": "markdown",
   "metadata": {},
   "source": [
    "### Action: Send Email\n",
    "- To\n",
    "- Priority\n",
    "- Subject\n",
    "- Message"
   ]
  },
  {
   "cell_type": "markdown",
   "metadata": {},
   "source": [
    "### Managing Scheduled Reports\n",
    "- Settings tab (top right)\n",
    "- Searches, reports, and alerts (under knowledge section)\n",
    "\n",
    "<br>\n",
    "\n",
    "- can edit report, disable, delete, etc\n",
    "- click on report will show you when report will run next\n",
    "\n",
    "<br>\n",
    "\n",
    "- **WARNING**: an embedded report will allow a report to be viewable by anyone who has access to the webpage\n",
    "    - an embedded report will not show data until the scheduled report is run\n",
    "    - once embedding is enabled, can no longer edit report"
   ]
  },
  {
   "cell_type": "markdown",
   "metadata": {},
   "source": [
    "---"
   ]
  },
  {
   "cell_type": "markdown",
   "metadata": {},
   "source": [
    "# Alerts"
   ]
  },
  {
   "cell_type": "markdown",
   "metadata": {},
   "source": []
  },
  {
   "cell_type": "markdown",
   "metadata": {},
   "source": []
  },
  {
   "cell_type": "markdown",
   "metadata": {},
   "source": []
  },
  {
   "cell_type": "markdown",
   "metadata": {},
   "source": []
  }
 ],
 "metadata": {
  "kernelspec": {
   "display_name": "Python 3",
   "language": "python",
   "name": "python3"
  },
  "language_info": {
   "codemirror_mode": {
    "name": "ipython",
    "version": 3
   },
   "file_extension": ".py",
   "mimetype": "text/x-python",
   "name": "python",
   "nbconvert_exporter": "python",
   "pygments_lexer": "ipython3",
   "version": "3.8.5"
  }
 },
 "nbformat": 4,
 "nbformat_minor": 4
}
