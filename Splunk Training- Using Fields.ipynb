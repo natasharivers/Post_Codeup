{
 "cells": [
  {
   "cell_type": "markdown",
   "metadata": {},
   "source": [
    "# Using Fields"
   ]
  },
  {
   "cell_type": "markdown",
   "metadata": {},
   "source": [
    "Fields filter data to return desired results"
   ]
  },
  {
   "cell_type": "markdown",
   "metadata": {},
   "source": [
    "### Field Sidebar:\n",
    "- **Selected Fields**: most important fields\n",
    "    - default fields\n",
    "        - host\n",
    "        - source\n",
    "        - source type\n",
    "- **Interesting Fields**: have values in at least 20% of the events\n",
    "    - returns: value, count, %\n",
    "    - **a**: string value\n",
    "    - **#**: numeral\n",
    "\n",
    "- can add \"interesting fields\" to \"selected fields\" list when desired"
   ]
  },
  {
   "cell_type": "markdown",
   "metadata": {},
   "source": [
    "### Field in Search Query\n",
    "- field names **are** case sensitive\n",
    "- values are **not** case sensitive"
   ]
  },
  {
   "cell_type": "markdown",
   "metadata": {},
   "source": [
    "### Field Operators\n",
    "- numeric or string values\n",
    "    - equal to (=)\n",
    "    - not equal to (!=)\n",
    "- numeric values\n",
    "    - greater than (>)\n",
    "    - greater than or equal to (>=)\n",
    "    - less than (<)\n",
    "    - less than or equal to (<=)"
   ]
  },
  {
   "cell_type": "markdown",
   "metadata": {},
   "source": [
    "### | eval\n",
    "- **eval** command used to calculate and manipulate result values\n",
    "\n",
    "<br>\n",
    "\n",
    "EXAMPLE:\n",
    "<br>\n",
    "| eval bandwidth = Bytes/1024/1024\n",
    "<br>\n",
    "^ this will return the \"Bytes\" column divided by 1024, divided by 1024 again to create \"Megabytes\" into new field named bandwidth"
   ]
  },
  {
   "cell_type": "markdown",
   "metadata": {},
   "source": [
    "### | erex\n",
    "- regex \n",
    "- quick results, easier to use\n",
    "- automatic field extraction\n",
    "- based on command given\n",
    "- need to provide sample to generate regex\n",
    "\n",
    "### | rex\n",
    "- allows you to used regex to extract values at search time\n",
    "- used on field values or raw data\n",
    "- allows you to match multiple groups\n",
    "- use whenever possible over erex"
   ]
  },
  {
   "cell_type": "markdown",
   "metadata": {},
   "source": [
    "### Field Alias\n",
    "- User and Username are both same as employee \n",
    "    - we can just alias both to employee\n",
    "    - EXAMPLE\n",
    "        - User as employee\n",
    "        - Username as employee"
   ]
  },
  {
   "cell_type": "markdown",
   "metadata": {},
   "source": [
    "## Search Time Operations Order\n",
    "\n",
    "Field Extractions --> Field Aliases --> Calculated Fields --> Lookups --> Event Types --> Tags"
   ]
  },
  {
   "cell_type": "code",
   "execution_count": null,
   "metadata": {},
   "outputs": [],
   "source": []
  }
 ],
 "metadata": {
  "kernelspec": {
   "display_name": "Python 3",
   "language": "python",
   "name": "python3"
  },
  "language_info": {
   "codemirror_mode": {
    "name": "ipython",
    "version": 3
   },
   "file_extension": ".py",
   "mimetype": "text/x-python",
   "name": "python",
   "nbconvert_exporter": "python",
   "pygments_lexer": "ipython3",
   "version": "3.8.5"
  }
 },
 "nbformat": 4,
 "nbformat_minor": 4
}
