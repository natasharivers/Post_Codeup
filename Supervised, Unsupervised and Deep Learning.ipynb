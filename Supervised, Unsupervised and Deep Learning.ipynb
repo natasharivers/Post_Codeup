{
 "cells": [
  {
   "cell_type": "markdown",
   "metadata": {},
   "source": [
    "## Hierarchical Clustering\n",
    "- unsupervised ML method used to predict subgroups based on subgroups and its nearest neighbor"
   ]
  },
  {
   "cell_type": "code",
   "execution_count": 15,
   "metadata": {},
   "outputs": [],
   "source": [
    "#imports\n",
    "from matplotlib import pyplot as plt\n",
    "from scipy.cluster.hierarchy import linkage, dendrogram\n",
    "import numpy as np\n",
    "\n",
    "#remove scientific notation\n",
    "np.set_printoptions(precision=5, suppress=True)\n",
    "\n",
    "#create random seed\n",
    "np.random.seed(4711)"
   ]
  },
  {
   "cell_type": "code",
   "execution_count": 5,
   "metadata": {},
   "outputs": [],
   "source": [
    "#create 2 clusters\n",
    "a=np.random.multivariate_normal([10,0],[[3,1], [1,4]], size=[100,])\n",
    "b=np.random.multivariate_normal([10,20],[[3,1], [1,4]], size=[50,])"
   ]
  },
  {
   "cell_type": "code",
   "execution_count": 10,
   "metadata": {},
   "outputs": [],
   "source": [
    "#join both clusters\n",
    "X =np.concatenate((a,b),)"
   ]
  },
  {
   "cell_type": "code",
   "execution_count": 12,
   "metadata": {},
   "outputs": [
    {
     "name": "stdout",
     "output_type": "stream",
     "text": [
      "(150, 2)\n"
     ]
    }
   ],
   "source": [
    "#show shape of X\n",
    "print (X.shape)"
   ]
  },
  {
   "cell_type": "code",
   "execution_count": 14,
   "metadata": {},
   "outputs": [
    {
     "data": {
      "image/png": "[encoded data removed]",
      "text/plain": [
       "<Figure size 432x288 with 1 Axes>"
      ]
     },
     "metadata": {
      "needs_background": "light"
     },
     "output_type": "display_data"
    }
   ],
   "source": [
    "#visualize a, b clusters\n",
    "plt.scatter(X[:,0],X[:,1])\n",
    "plt.show()"
   ]
  },
  {
   "cell_type": "markdown",
   "metadata": {},
   "source": [
    "---"
   ]
  },
  {
   "cell_type": "markdown",
   "metadata": {},
   "source": [
    "## Deep and Reinforcement Learning"
   ]
  },
  {
   "cell_type": "markdown",
   "metadata": {},
   "source": [
    "### Deep learning: \n",
    "   - big data\n",
    "   - used to solve complicated problems that require high accuracy\n",
    "   - works with neutral networks"
   ]
  },
  {
   "cell_type": "markdown",
   "metadata": {},
   "source": [
    "### Reinforcement Learning:\n",
    "- driven by feedback\n",
    "- perform actions and analyze results\n",
    "- based on rewards\n",
    "<br>\n",
    "\n",
    "#### Terminology:\n",
    "- **Agent**: learner and decision maker\n",
    "- **Environment**: situation produced by the agent\n",
    "- **state**: outcome of the action initiated by the agent\n",
    "- **policy**: set of defined rules for agent\n",
    "- **rewards**: long term and short term benefits from agents actions\n",
    "- **Lambda**: \n",
    "    - predict the success\n",
    "    - lambda increases == algorithm learning fast\n",
    "- **Gama**:\n",
    "    - each state in transition\n",
    "    - constant value\n",
    "    - short-term rewards == 0\n",
    "    - long-term rewards == 1\n",
    "    "
   ]
  },
  {
   "cell_type": "code",
   "execution_count": null,
   "metadata": {},
   "outputs": [],
   "source": []
  }
 ],
 "metadata": {
  "kernelspec": {
   "display_name": "Python 3",
   "language": "python",
   "name": "python3"
  },
  "language_info": {
   "codemirror_mode": {
    "name": "ipython",
    "version": 3
   },
   "file_extension": ".py",
   "mimetype": "text/x-python",
   "name": "python",
   "nbconvert_exporter": "python",
   "pygments_lexer": "ipython3",
   "version": "3.8.5"
  }
 },
 "nbformat": 4,
 "nbformat_minor": 4
}
