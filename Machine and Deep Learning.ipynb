{
 "cells": [
  {
   "cell_type": "markdown",
   "metadata": {},
   "source": [
    "## Supervised Learning:\n",
    "- Classifcation\n",
    "- Regression\n",
    "\n",
    "## \n",
    "- Clustering: look for patterns in the data"
   ]
  },
  {
   "cell_type": "markdown",
   "metadata": {},
   "source": [
    "### Classification algorithms:\n",
    "- used for spam vs ham email identificiation\n",
    " <br>\n",
    " \n",
    "- spam: \n",
    "    - unknown email address\n",
    "    - excessive use of punctuation\n",
    "    \n",
    "- ham: \n",
    "    - genuine email\n",
    "    - single/clear language\n",
    "    - personally sent to you"
   ]
  },
  {
   "cell_type": "markdown",
   "metadata": {},
   "source": [
    "### Regression algorithms:\n",
    "- predicts a value that is continuous in nature\n",
    "- ex: value of a house based on number of rooms, schools, size of house"
   ]
  },
  {
   "cell_type": "markdown",
   "metadata": {},
   "source": [
    "### Passed history\n",
    "- patterns detected based on passed purhcases\n",
    "- recommends items that you might like in the future"
   ]
  },
  {
   "cell_type": "markdown",
   "metadata": {},
   "source": [
    "### Clustering:\n",
    "- company has data about all users\n",
    "- target groups with customized marketing\n",
    "- ex: sports lovers, book lovers, animal lovers, etc"
   ]
  },
  {
   "cell_type": "markdown",
   "metadata": {},
   "source": [
    "### Reinforcement Learning:\n",
    "- actions are correct or incorrect\n",
    "- ex: robot vaccum clearner\n",
    "    - hits wall or funisher = punished\n",
    "    - picks up dirt = rewarded\n",
    "    - after several passes, the vaccuum learns how to clearn up the house"
   ]
  },
  {
   "cell_type": "code",
   "execution_count": null,
   "metadata": {},
   "outputs": [],
   "source": []
  }
 ],
 "metadata": {
  "kernelspec": {
   "display_name": "Python 3",
   "language": "python",
   "name": "python3"
  },
  "language_info": {
   "codemirror_mode": {
    "name": "ipython",
    "version": 3
   },
   "file_extension": ".py",
   "mimetype": "text/x-python",
   "name": "python",
   "nbconvert_exporter": "python",
   "pygments_lexer": "ipython3",
   "version": "3.8.5"
  }
 },
 "nbformat": 4,
 "nbformat_minor": 4
}
