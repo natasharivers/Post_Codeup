{
 "cells": [
  {
   "cell_type": "markdown",
   "metadata": {},
   "source": [
    "## Supervised Learning:\n",
    "- Classifcation\n",
    "- Regression\n",
    "\n",
    "## \n",
    "- Clustering: look for patterns in the data"
   ]
  },
  {
   "cell_type": "markdown",
   "metadata": {},
   "source": [
    "### Classification algorithms:\n",
    "- used for spam vs ham email identificiation\n",
    "- step 1: data fed in (features) \n",
    "- step 2: classification/category predicted\n",
    "\n",
    "<br>\n",
    "\n",
    "- binary classication (spam vs ham)\n",
    "- multivariate classification (dog vs crab vs rat)\n",
    "\n",
    " <br>\n",
    " \n",
    "- spam: \n",
    "    - unknown email address\n",
    "    - excessive use of punctuation\n",
    "    \n",
    "- ham: \n",
    "    - genuine email\n",
    "    - single/clear language\n",
    "    - personally sent to you"
   ]
  },
  {
   "cell_type": "markdown",
   "metadata": {},
   "source": [
    "### Regression algorithms:\n",
    "- predicts a value that is continuous in nature\n",
    "- ex: value of a house based on number of rooms, schools, size of house"
   ]
  },
  {
   "cell_type": "markdown",
   "metadata": {},
   "source": [
    "### Passed history\n",
    "- patterns detected based on passed purhcases\n",
    "- recommends items that you might like in the future"
   ]
  },
  {
   "cell_type": "markdown",
   "metadata": {},
   "source": [
    "### Clustering:\n",
    "- company has data about all users\n",
    "- target groups with customized marketing\n",
    "- ex: sports lovers, book lovers, animal lovers, etc"
   ]
  },
  {
   "cell_type": "markdown",
   "metadata": {},
   "source": [
    "### Reinforcement Learning:\n",
    "- actions are correct or incorrect\n",
    "- ex: robot vaccum clearner\n",
    "    - hits wall or funisher = punished\n",
    "    - picks up dirt = rewarded\n",
    "    - after several passes, the vaccuum learns how to clearn up the house"
   ]
  },
  {
   "cell_type": "markdown",
   "metadata": {},
   "source": [
    "--- "
   ]
  },
  {
   "cell_type": "markdown",
   "metadata": {},
   "source": [
    "## How ML Works"
   ]
  },
  {
   "cell_type": "markdown",
   "metadata": {},
   "source": [
    "### training phase:\n",
    "- classifier is fed in training data (corpus)\n",
    "\n",
    "--> corpus --> classifier --> prediction"
   ]
  },
  {
   "cell_type": "markdown",
   "metadata": {},
   "source": [
    "### Input Features\n",
    "- AKA feature vector, X value\n",
    "- input data\n",
    "- ex: \n",
    "    - words in email\n",
    "    - sender field\n",
    "    - punctuation"
   ]
  },
  {
   "cell_type": "markdown",
   "metadata": {},
   "source": [
    "---"
   ]
  },
  {
   "cell_type": "markdown",
   "metadata": {},
   "source": [
    "# Libraries"
   ]
  },
  {
   "cell_type": "markdown",
   "metadata": {},
   "source": [
    "## Pandas"
   ]
  },
  {
   "cell_type": "markdown",
   "metadata": {},
   "source": [
    "- open-sourced python package for data analysis\n",
    "- easy and intuative to work with relational data\n",
    "- **dataframes**: tabular format of data\n",
    "- ordered and unordered time series data\n",
    "- observational and statistical datasets"
   ]
  },
  {
   "cell_type": "markdown",
   "metadata": {},
   "source": [
    "## Scikit-learn\n",
    "- open-sourced python package \n",
    "- easy to manipulate data\n",
    "- libraries for all common ML algorithms\n",
    "- integrates with Pandas"
   ]
  },
  {
   "cell_type": "markdown",
   "metadata": {},
   "source": [
    "## XGBoost\n",
    "- extreme gradient boosting\n",
    "- efficient\n",
    "- used for regression, classification and ranking\n",
    "- open-sourced for python **and** other languages"
   ]
  },
  {
   "cell_type": "markdown",
   "metadata": {},
   "source": [
    "---"
   ]
  },
  {
   "cell_type": "markdown",
   "metadata": {},
   "source": [
    "# Support Vector Machines\n",
    "- supervised ML\n",
    "- training phase where algorithm is fed inputs and correct outputs\n",
    "- job of algorithm to map relationship\n",
    "- classification and regression \n",
    "- input data plotted in \"n-dimensional\" plane"
   ]
  },
  {
   "cell_type": "markdown",
   "metadata": {},
   "source": [
    "#### Decision Boundary:\n",
    "- with two features, \"plane of seperation\" is a one-dimensional line\n",
    "- sometimes, there is **no** straight line to seperate data\n",
    "    - transformation will need to be applied to turn 2D into 3D data so a straight line (decision boundary) can be drawn"
   ]
  },
  {
   "cell_type": "markdown",
   "metadata": {},
   "source": [
    "---"
   ]
  },
  {
   "cell_type": "markdown",
   "metadata": {},
   "source": [
    "## Overfitting"
   ]
  },
  {
   "cell_type": "markdown",
   "metadata": {},
   "source": [
    "- simple straight line:\n",
    "    - most points identified\n",
    "    - some data points will be misclassified\n",
    "\n",
    "<br>\n",
    "\n",
    "- more complex line:\n",
    "    - no outliers\n",
    "    - no misclassifed data points\n",
    "    - fits \"too\" perfectly\n",
    "    - model learns training data **too** well\n",
    "    - too specific to data (overfit)"
   ]
  },
  {
   "cell_type": "markdown",
   "metadata": {},
   "source": [
    "### How to avoid?\n",
    "- **regularization**: penalty applied when function gets too complex\n"
   ]
  },
  {
   "cell_type": "markdown",
   "metadata": {},
   "source": [
    "### Hard Margin SVM Classifier\n",
    "- no points inside the \"street\" (margin)\n",
    "<br>\n",
    "\n",
    "### Soft Margin SVM Classifer\n",
    "- few points inside the \"street\"\n",
    "- tolerant to a few errors\n",
    "- likely to do better in real world when making predictins\n",
    "- not overfit"
   ]
  },
  {
   "cell_type": "code",
   "execution_count": null,
   "metadata": {},
   "outputs": [],
   "source": []
  }
 ],
 "metadata": {
  "kernelspec": {
   "display_name": "Python 3",
   "language": "python",
   "name": "python3"
  },
  "language_info": {
   "codemirror_mode": {
    "name": "ipython",
    "version": 3
   },
   "file_extension": ".py",
   "mimetype": "text/x-python",
   "name": "python",
   "nbconvert_exporter": "python",
   "pygments_lexer": "ipython3",
   "version": "3.8.5"
  }
 },
 "nbformat": 4,
 "nbformat_minor": 4
}
