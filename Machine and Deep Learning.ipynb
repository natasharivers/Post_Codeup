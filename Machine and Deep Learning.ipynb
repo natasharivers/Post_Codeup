{
 "cells": [
  {
   "cell_type": "markdown",
   "metadata": {},
   "source": [
    "## Supervised Learning:\n",
    "- Classifcation\n",
    "- Regression\n",
    "\n",
    "## \n",
    "- Clustering: look for patterns in the data"
   ]
  },
  {
   "cell_type": "markdown",
   "metadata": {},
   "source": [
    "### Classification algorithms:\n",
    "- used for spam vs ham email identificiation\n",
    " <br>\n",
    " \n",
    "- spam: \n",
    "    - unknown email address\n",
    "    - excessive use of punctuation\n",
    "    \n",
    "- ham: \n",
    "    - genuine email\n",
    "    - single/clear language\n",
    "    - personally sent to you"
   ]
  },
  {
   "cell_type": "markdown",
   "metadata": {},
   "source": [
    "### Regression algorithms:\n",
    "- predicts a value that is continuous in nature"
   ]
  },
  {
   "cell_type": "code",
   "execution_count": null,
   "metadata": {},
   "outputs": [],
   "source": []
  }
 ],
 "metadata": {
  "kernelspec": {
   "display_name": "Python 3",
   "language": "python",
   "name": "python3"
  },
  "language_info": {
   "codemirror_mode": {
    "name": "ipython",
    "version": 3
   },
   "file_extension": ".py",
   "mimetype": "text/x-python",
   "name": "python",
   "nbconvert_exporter": "python",
   "pygments_lexer": "ipython3",
   "version": "3.8.5"
  }
 },
 "nbformat": 4,
 "nbformat_minor": 4
}
