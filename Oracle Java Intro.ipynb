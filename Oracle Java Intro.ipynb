{
 "cells": [
  {
   "cell_type": "markdown",
   "metadata": {},
   "source": [
    "# Oracle University: Java"
   ]
  },
  {
   "cell_type": "markdown",
   "metadata": {},
   "source": [
    "<hr style=\"border:2px solid black\"> </hr>"
   ]
  },
  {
   "cell_type": "markdown",
   "metadata": {},
   "source": [
    "## Overview:\n",
    "- designed in 1995\n",
    "- **uses**: smart cars, watches, phones, etc\n",
    "- **Ecosystem**:\n",
    "    - Java Card\n",
    "    - Java ME\n",
    "    - Java SE\n",
    "    - Java MP\n",
    "    - Java EE"
   ]
  },
  {
   "cell_type": "markdown",
   "metadata": {},
   "source": [
    "- **Java is cross-platform**:\n",
    "    - each prgram only needs to be written and compiled once\n",
    "    - no platform-specific changes has to be applied\n",
    "    \n",
    "<br>   \n",
    "\n",
    "- programs are executed within Java Virtal Machine (JVM)"
   ]
  },
  {
   "cell_type": "markdown",
   "metadata": {},
   "source": [
    "---"
   ]
  },
  {
   "cell_type": "markdown",
   "metadata": {},
   "source": [
    "## Steps:\n",
    "1. write logic\n",
    "2. compile\n",
    "3. deploy"
   ]
  },
  {
   "cell_type": "markdown",
   "metadata": {},
   "source": [
    "---"
   ]
  },
  {
   "cell_type": "markdown",
   "metadata": {},
   "source": [
    "## Java Language:\n",
    "- **Class**\n",
    "    - codes basic unit of code\n",
    "    - describe data and logic of your program\n",
    "    \n",
    "    \n",
    "<br>\n",
    "\n",
    "- **Package**\n",
    "    - intermediate logic code aggregation\n",
    "    - group of classes- 0 or more classes\n",
    "        - a group of classes that are logically related together\n",
    "\n",
    "<br>\n",
    "\n",
    "- **Module**\n",
    "    - high level physical code\n",
    "    - group of packages\n",
    "    - started with Java 9\n",
    "        - specify which parts of code you want accessed for reuse"
   ]
  },
  {
   "cell_type": "markdown",
   "metadata": {},
   "source": [
    "---"
   ]
  },
  {
   "cell_type": "markdown",
   "metadata": {},
   "source": [
    "## Java Syntax\n",
    "- code is grouped into classes\n",
    "<br>\n",
    "\n",
    "- **variables**: store values\n",
    "- **methods**: cause requested action to happen"
   ]
  },
  {
   "cell_type": "markdown",
   "metadata": {},
   "source": [
    "---"
   ]
  },
  {
   "cell_type": "markdown",
   "metadata": {},
   "source": [
    "## Java Exception Handling"
   ]
  },
  {
   "cell_type": "markdown",
   "metadata": {},
   "source": [
    "- interupt normal progrm execution when a problem occurs\n",
    "    - when exception occurs, this allows you to branch out of where exception occurs\n",
    "    - allows you to decide what to do in case of an error"
   ]
  },
  {
   "cell_type": "markdown",
   "metadata": {},
   "source": [
    "---"
   ]
  },
  {
   "cell_type": "markdown",
   "metadata": {},
   "source": [
    "## Java Design\n",
    "- **class**:\n",
    "    - reprensents a type of thing or a concept\n",
    "    \n",
    "    <br>\n",
    "    \n",
    "- **object**:\n",
    "    - an instance- a specific example of a class\n",
    "    - create at runtime to execute the code\n",
    "    \n",
    "    <br>\n",
    "    \n",
    "- **polymophism**\n",
    "<br>\n",
    "\n",
    "- **Flexible Design**:\n",
    "    - interfaces\n",
    "    - enumerations\n",
    "    - generic\n",
    "    "
   ]
  },
  {
   "cell_type": "markdown",
   "metadata": {},
   "source": [
    "---"
   ]
  },
  {
   "cell_type": "markdown",
   "metadata": {},
   "source": [
    "## Unified Modelling Language (UML)\n",
    "- analyze business requirements\n",
    "- model code structure\n",
    "- describe application deployment\n",
    "\n",
    "\n",
    "### use case --> class diagram --> activity diagram --> sequence diagram --> state transition --> deployment\n",
    "\n",
    "- **use case**:\n",
    "    - describes the interaction between end user and systen\n",
    "\n",
    "<br>\n",
    "\n",
    "- **class diagram**:\n",
    "    - respresent classes, attributes and relationships\n",
    "\n",
    "<br>\n",
    "\n",
    "- **activity diagram**:\n",
    "    - describe flow of control\n",
    "\n",
    "<br>\n",
    "\n",
    "- **sequence diagram**:\n",
    "    - show how one object can envoke another object\n",
    "    - passing info back and forth\n",
    "\n",
    "<br>\n",
    "\n",
    "- **state transition diagram**:\n",
    "    - document if an object goes in or out of a certain state\n",
    "    - ex: turning on or off\n",
    "\n",
    "<br>\n",
    "\n",
    "- **deployment diagram**:\n",
    "    - indicate how a application can be deployed"
   ]
  },
  {
   "cell_type": "markdown",
   "metadata": {},
   "source": [
    "---"
   ]
  },
  {
   "cell_type": "markdown",
   "metadata": {},
   "source": [
    "## Java Arrays and Collections\n",
    "- **Array**: a simle group of elements\n"
   ]
  },
  {
   "cell_type": "code",
   "execution_count": null,
   "metadata": {},
   "outputs": [],
   "source": []
  }
 ],
 "metadata": {
  "kernelspec": {
   "display_name": "Python 3",
   "language": "python",
   "name": "python3"
  },
  "language_info": {
   "codemirror_mode": {
    "name": "ipython",
    "version": 3
   },
   "file_extension": ".py",
   "mimetype": "text/x-python",
   "name": "python",
   "nbconvert_exporter": "python",
   "pygments_lexer": "ipython3",
   "version": "3.8.5"
  }
 },
 "nbformat": 4,
 "nbformat_minor": 4
}
